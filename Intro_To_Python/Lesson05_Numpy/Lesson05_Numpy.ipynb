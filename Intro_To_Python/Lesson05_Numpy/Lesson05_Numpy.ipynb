{
 "cells": [
  {
   "cell_type": "markdown",
   "metadata": {},
   "source": [
    "# Introduction to Coding (in Python)\n",
    "## Lesson 5 - NumPy\n",
    "\n",
    "### NumPy\n",
    "\n",
    "NumPy is a python library. Libraries are what make python a powerful coding language used by scientists across the world. Your Python implementation will have several built-in libraries. It is possible that NumPy is not built in. Here are some quick instructions for making sure you have the NumPy library\n",
    "\n",
    ">**Getting Numpy** \\\n",
    "*In Anaconda* \\\n",
    "Open Anaconda Navigator. Use the left hand side of Navigator to get to Environments. Choose your default environment, and search your libraries for Numpy. If it is not installed, install it! You can do this by looking for all libraries, checking the box next to numpy, and hitting install.  \\\n",
    "\\\n",
    "*In terminal* \\\n",
    "If you have a base Python version available via a terminal you can use the command \\\n",
    "`python3 -m pip install numpy` or `python -m pip install numpy`\\\n",
    "to install the numpy library. \\\n",
    "\\\n",
    "For both these installations, you'll probably have to restart this notebook before you import the library here. \\\n",
    "**While you install numpy, you should also get `matplotlib`, as we'll use it in the next lesson.**  \\\n",
    "Other good libraries are `astropy`, `scipy`, and `glob`.\n",
    "\n",
    "To use a library in Python code, we import it:"
   ]
  },
  {
   "cell_type": "code",
   "execution_count": 2,
   "metadata": {},
   "outputs": [],
   "source": [
    "import numpy"
   ]
  },
  {
   "cell_type": "markdown",
   "metadata": {},
   "source": [
    "If the above does not work, make sure the numpy library is installed, then restart this notebook. If that does not work, then restart Jupyter notebook entirely. \n",
    "\n",
    "Because some libraries have long names, the import statement can be combined with `as` to rename the library in the code:"
   ]
  },
  {
   "cell_type": "code",
   "execution_count": 3,
   "metadata": {},
   "outputs": [],
   "source": [
    "import numpy as np"
   ]
  },
  {
   "cell_type": "markdown",
   "metadata": {},
   "source": [
    "Now we can get to work! \n",
    "\n",
    "### NumPy Arrays\n",
    "\n",
    "Numpy arrays are like lists, but better! They are more intuitive and easier to visualize. \n",
    "\n",
    "One big difference between lists and arrays is that Numpy arrays work better when you do not append new data to them. If you know how many entries you need in the array, go ahead and define it with a function like `np.zeros()`, then fill in the entries. \n",
    "\n",
    "**Example 1**\n",
    "\n",
    "Make a 3 by 3 array with $1$ along the diagonal. Below, I print out the array after `np.zeros()`, and after I have edited the diagonal."
   ]
  },
  {
   "cell_type": "code",
   "execution_count": 4,
   "metadata": {},
   "outputs": [
    {
     "name": "stdout",
     "output_type": "stream",
     "text": [
      "[[0. 0. 0.]\n",
      " [0. 0. 0.]\n",
      " [0. 0. 0.]]\n",
      "[[1. 0. 0.]\n",
      " [0. 1. 0.]\n",
      " [0. 0. 1.]]\n"
     ]
    }
   ],
   "source": [
    "myArr = np.zeros([3,3])\n",
    "print(myArr)\n",
    "myArr[0,0] = 1\n",
    "myArr[1,1] = 1\n",
    "myArr[2,2] = 1\n",
    "print(myArr)"
   ]
  },
  {
   "cell_type": "markdown",
   "metadata": {},
   "source": [
    "The above can be simplified with a different numpy function:"
   ]
  },
  {
   "cell_type": "code",
   "execution_count": 8,
   "metadata": {},
   "outputs": [
    {
     "name": "stdout",
     "output_type": "stream",
     "text": [
      "[[1. 0. 0.]\n",
      " [0. 1. 0.]\n",
      " [0. 0. 1.]]\n",
      "[[1. 0. 0.]\n",
      " [0. 1. 0.]\n",
      " [0. 0. 1.]]\n"
     ]
    }
   ],
   "source": [
    "myArr = np.diag([1.0,1.0,1.0])\n",
    "print(myArr)\n",
    "myArr = np.diag(np.ones(3))\n",
    "print(myArr)\n"
   ]
  },
  {
   "cell_type": "markdown",
   "metadata": {},
   "source": [
    "The above code shows two new functions `np.diag` and `np.ones`. Ones gives you an array of 1's instead of an array of zeros. However, ones and zeros work the same - you just give them the dimensions of your array. Diag takes a given 1 dimensional array and puts it along the diagonal of an array of zeros. \n",
    "\n",
    "Numpy arrays can get pretty complex. For example, what about an arbitrarily large number?\n",
    "\n",
    "**Example 2**"
   ]
  },
  {
   "cell_type": "code",
   "execution_count": 9,
   "metadata": {},
   "outputs": [
    {
     "name": "stdout",
     "output_type": "stream",
     "text": [
      "[[1. 0. 0. ... 0. 0. 0.]\n",
      " [0. 1. 0. ... 0. 0. 0.]\n",
      " [0. 0. 1. ... 0. 0. 0.]\n",
      " ...\n",
      " [0. 0. 0. ... 1. 0. 0.]\n",
      " [0. 0. 0. ... 0. 1. 0.]\n",
      " [0. 0. 0. ... 0. 0. 1.]]\n"
     ]
    }
   ],
   "source": [
    "n=100\n",
    "myArr = np.diag(np.ones(n))\n",
    "print(myArr)"
   ]
  },
  {
   "cell_type": "markdown",
   "metadata": {},
   "source": [
    "Because the above array is really long, python uses ellipses (...) to show less of the array. \n",
    "\n",
    "We can also have arrays with more than 2 dimensions:"
   ]
  },
  {
   "cell_type": "code",
   "execution_count": 20,
   "metadata": {},
   "outputs": [
    {
     "name": "stdout",
     "output_type": "stream",
     "text": [
      "[[[0. 0. 0.]\n",
      "  [0. 0. 0.]\n",
      "  [0. 0. 0.]]\n",
      "\n",
      " [[0. 0. 0.]\n",
      "  [0. 0. 0.]\n",
      "  [0. 0. 0.]]\n",
      "\n",
      " [[0. 0. 0.]\n",
      "  [0. 0. 0.]\n",
      "  [0. 0. 0.]]]\n"
     ]
    }
   ],
   "source": [
    "n=3\n",
    "myArr = np.zeros([n,n,n])\n",
    "print(myArr)"
   ]
  },
  {
   "cell_type": "markdown",
   "metadata": {},
   "source": [
    "### Grids of numbers... What's the point?\n",
    "\n",
    "Linear algebra is a basic mathematical formalism that underlies much of physics and computer science (and geology!). Arrays allow us to do linear algebra without writing out a bunch of computations! \n",
    "\n",
    "A simple math problem is a *system of equations*:\n",
    "$$3y + 2x  = 0$$\n",
    "$$x -6y = 6$$\n",
    "\n",
    "Most people who have taken algebra can solve this system. However, what if we have 3 or more variables? For example:\n",
    "\n",
    "$$4x +2y = 0$$\n",
    "$$3x -8y +3z= 6$$\n",
    "$$6z -10y= 3$$\n",
    "\n",
    "Once again, with brute force and time on your hands, most people can figure this out. But the computer can do it MUCH faster:\n",
    "\n",
    "**Example 3**"
   ]
  },
  {
   "cell_type": "code",
   "execution_count": 61,
   "metadata": {},
   "outputs": [
    {
     "name": "stdout",
     "output_type": "stream",
     "text": [
      "For the first system, x = 1.2 and y = -0.8\n"
     ]
    }
   ],
   "source": [
    "A = np.array([[2,3],[1,-6]])\n",
    "b = np.array([0,6])\n",
    "solution = np.dot(np.linalg.inv(A),b)\n",
    "print(\"For the first system, x = \"+format(solution[0],'1.1f')+\" and y = \"+format(solution[1],'1.1f'))"
   ]
  },
  {
   "cell_type": "markdown",
   "metadata": {},
   "source": [
    "Try the above numbers for yourself, and you'll find they are the correct solution for\n",
    "\n",
    "$$3y + 2x  = 0$$\n",
    "$$x -6y = 6$$\n",
    "\n",
    "Before we go on, I want to explain some linear algebra. The code above results from rearranging the equations into a linear algebra equation:\n",
    "$$\\left[ \\begin{array}{cc}\n",
    " 2 & 3 \\\\\n",
    " 1 & -6 \n",
    "\\end{array} \\right]\n",
    "\\left[ \\begin{array}{c}\n",
    " x \\\\\n",
    " y \n",
    "\\end{array} \\right]\n",
    "= \\left[ \\begin{array}{c}\n",
    " 0 \\\\\n",
    " 6 \n",
    "\\end{array} \\right]$$\n",
    "\n",
    "The above equation is equivalent to the the system of equations we had before! To multiply in linear algebra, I encourage you to take a look at https://www.mathsisfun.com/algebra/matrix-multiplying.html. \n",
    "\n",
    "Now, the above equation can be abbreviated to be \n",
    "$$\n",
    "A \\cdot \\vec{u} = \\vec{b}\n",
    "$$\n",
    "where each term is \n",
    "$$A = \\left[ \\begin{array}{cc}\n",
    " 2 & 3 \\\\\n",
    " 1 & -6 \n",
    "\\end{array} \\right]$$\n",
    "\n",
    "$$\\vec{u} = \\left[ \\begin{array}{c}\n",
    " x \\\\\n",
    " y \n",
    "\\end{array} \\right]$$\n",
    "\n",
    "$$\\vec{b} = \\left[ \\begin{array}{c}\n",
    " 0 \\\\\n",
    " 6 \n",
    "\\end{array} \\right]$$\n",
    "\n",
    "Then to solve the equation, we *divide* by $A$. But it is not obvious how to divide by an array. \n",
    "\n",
    "Instead, we use something called the Inverse of an array: $A^{-1}$.\n",
    "\n",
    "Now, there are many formulas and ways to derive the inverse of a matrix. Some matrices do not have an inverse! \n",
    "\n",
    "But that's a lot of math. Instead, let's just use the inverse to solve our problem:\n",
    "\n",
    "$$\n",
    "\\vec{u} = A^{-1} \\cdot \\vec{b}\n",
    "$$\n",
    "\n",
    "And that is what I did in code in Example 3! I multiplied the inverse of $A$ with $\\vec{b}$. That is then my solution array $\\vec{u}$.\n",
    "\n",
    "Now do the same thing with the other system of equations: \n",
    "> **Problem 1**\\\n",
    "Solve the system of equations below:\\\n",
    "$$4x +2y = 0$$\\\n",
    "$$3x -8y +3z= 6$$\\\n",
    "$$6z -10y= 3$$\\\n",
    "HINT: The above can also be written as \\\n",
    "$$\\left[ \\begin{array}{ccc}\n",
    " 4 & 2 & 0 \\\\\n",
    " 3 & -8 & 3 \\\\\n",
    " 0 & -10 & 6 \n",
    "\\end{array} \\right]\n",
    "\\left[ \\begin{array}{c}\n",
    " x \\\\\n",
    " y \\\\\n",
    " z\n",
    "\\end{array} \\right]\n",
    "= \\left[ \\begin{array}{c}\n",
    " 0 \\\\\n",
    " 6 \\\\\n",
    " 3\n",
    "\\end{array} \\right]$$"
   ]
  },
  {
   "cell_type": "code",
   "execution_count": null,
   "metadata": {},
   "outputs": [],
   "source": []
  },
  {
   "cell_type": "markdown",
   "metadata": {},
   "source": [
    "Hopefully you have started to see the importance of linear algebra and arrays in solving science problems!\n",
    "\n",
    "### Other parts of NumPy\n",
    "\n",
    "NumPy does more than just linear algebra and data storage. It also contains many of the various math functions you may have come across. Trigonometric functions, square root, and even the `sinc` function,\n",
    "$$\\mathrm{sinc}(x) = \\frac{\\sin(\\pi x)}{\\pi x}$$\n",
    "are included in NumPy. \n",
    "\n",
    "**Example 4**"
   ]
  },
  {
   "cell_type": "code",
   "execution_count": 60,
   "metadata": {},
   "outputs": [
    {
     "name": "stdout",
     "output_type": "stream",
     "text": [
      "3.141592653589793\n",
      "1.0\n"
     ]
    }
   ],
   "source": [
    "print(np.pi)\n",
    "print(np.sin(np.pi/2.0))\n"
   ]
  },
  {
   "cell_type": "markdown",
   "metadata": {},
   "source": [
    "It is important to note that `np.sin(angle)` assumes the angle is measured in radians. \n",
    "\n",
    "NumPy also has some other functions which contruct lists.\n",
    "\n",
    "**Example 5**"
   ]
  },
  {
   "cell_type": "code",
   "execution_count": 74,
   "metadata": {},
   "outputs": [
    {
     "name": "stdout",
     "output_type": "stream",
     "text": [
      "[ 0.  1.  2.  3.  4.  5.  6.  7.  8.  9. 10.]\n",
      "[1.e+00 1.e+01 1.e+02 1.e+03 1.e+04 1.e+05 1.e+06 1.e+07 1.e+08 1.e+09\n",
      " 1.e+10]\n"
     ]
    }
   ],
   "source": [
    "myLst = np.linspace(0,10,11)\n",
    "print(myLst)\n",
    "myLst = np.logspace(0,10,11)\n",
    "print(myLst)"
   ]
  },
  {
   "cell_type": "markdown",
   "metadata": {},
   "source": [
    "Mess around with the above list constructors. The final argument is the number of entries in the list. The first two arguments are the first and last entry. For `linspace`, the list is filled in by adding the step size\n",
    "$$\\Delta x = \\frac{\\mathrm{End} - \\mathrm{Start}}{\\mathrm{Num. \\, of \\, Entries}}$$\n",
    "to each successive entry. \n",
    "\n",
    "`logspace` is similar, but the quantities are spaced logarithmically. This is useful for plotting exponential and logarithmic functions (see next lesson on MatPlotLib).\n",
    "\n",
    "### Loops + Arrays\n",
    "\n",
    "Combining loops and arrays can help us solve very difficult problems. First, let's load in some data. NumPy can load text files, like comma separated tables (.csv files):\n",
    "\n",
    "**Example 6**"
   ]
  },
  {
   "cell_type": "code",
   "execution_count": 81,
   "metadata": {},
   "outputs": [
    {
     "name": "stdout",
     "output_type": "stream",
     "text": [
      "[False False  True False False  True False False  True False False  True\n",
      " False False  True False False  True False False  True False False  True\n",
      " False False  True False False  True False False  True False False  True\n",
      " False False  True False False  True False False  True False False  True\n",
      " False False  True False False  True False False  True False False  True\n",
      " False False  True False False  True False False  True False False  True\n",
      " False False  True False False  True False False  True False False  True\n",
      " False False  True False False  True False False  True False False  True\n",
      " False False  True False]\n",
      "[ 3.  6.  9. 12. 15. 18. 21. 24. 27. 30. 33. 36. 39. 42. 45. 48. 51. 54.\n",
      " 57. 60. 63. 66. 69. 72. 75. 78. 81. 84. 87. 90. 93. 96. 99.]\n",
      "3.0 6.0 9.0\n"
     ]
    }
   ],
   "source": [
    "myData = np.loadtxt(\"\",delimiter=',')"
   ]
  },
  {
   "cell_type": "markdown",
   "metadata": {},
   "source": []
  },
  {
   "cell_type": "code",
   "execution_count": 84,
   "metadata": {},
   "outputs": [],
   "source": []
  },
  {
   "cell_type": "code",
   "execution_count": null,
   "metadata": {},
   "outputs": [],
   "source": []
  },
  {
   "cell_type": "code",
   "execution_count": null,
   "metadata": {},
   "outputs": [],
   "source": []
  }
 ],
 "metadata": {
  "kernelspec": {
   "display_name": "Python 3",
   "language": "python",
   "name": "python3"
  },
  "language_info": {
   "codemirror_mode": {
    "name": "ipython",
    "version": 3
   },
   "file_extension": ".py",
   "mimetype": "text/x-python",
   "name": "python",
   "nbconvert_exporter": "python",
   "pygments_lexer": "ipython3",
   "version": "3.8.3"
  }
 },
 "nbformat": 4,
 "nbformat_minor": 4
}

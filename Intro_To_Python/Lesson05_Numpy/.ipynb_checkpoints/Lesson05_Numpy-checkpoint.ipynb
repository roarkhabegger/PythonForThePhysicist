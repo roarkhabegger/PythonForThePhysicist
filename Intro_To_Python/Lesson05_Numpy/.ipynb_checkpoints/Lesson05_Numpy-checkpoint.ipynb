{
 "cells": [
  {
   "cell_type": "markdown",
   "metadata": {},
   "source": [
    "# Introduction to Coding (in Python)\n",
    "## Lesson 5 - NumPy\n",
    "\n",
    "### NumPy\n",
    "\n",
    "NumPy is a python library. Libraries are what make python a powerful coding language used by scientists across the world. Your Python implementation will have several built-in libraries. It is possible that NumPy is not built in. Here are some quick instructions for making sure you have the NumPy library\n",
    "\n",
    ">**Getting Numpy** \\\n",
    "*In Anaconda* \\\n",
    "Open Anaconda Navigator. Use the left hand side of Navigator to get to Environments. Choose your default environment, and search your libraries for Numpy. If it is not installed, install it! You can do this by looking for all libraries, checking the box next to numpy, and hitting install.  \\\n",
    "\\\n",
    "*In terminal* \\\n",
    "If you have a base Python version available via a terminal you can use the command \\\n",
    "`python3 -m pip install numpy` or `python -m pip install numpy`\\\n",
    "to install the numpy library. \\\n",
    "\\\n",
    "For both these installations, you'll probably have to restart this notebook before you import the library here. \\\n",
    "**While you install numpy, you should also get `matplotlib`, as we'll use it in the next lesson.**  \\\n",
    "Other good libraries are `astropy`, `scipy`, and `glob`.\n",
    "\n",
    "To use a library in Python code, we import it:"
   ]
  },
  {
   "cell_type": "code",
   "execution_count": 1,
   "metadata": {},
   "outputs": [],
   "source": [
    "import numpy"
   ]
  },
  {
   "cell_type": "markdown",
   "metadata": {},
   "source": [
    "If the above does not work, make sure the numpy library is installed, then restart this notebook. If that does not work, then restart Jupyter notebook entirely. \n",
    "\n",
    "Because some libraries have long names, the import statement can be combined with `as` to rename the library in the code:"
   ]
  },
  {
   "cell_type": "code",
   "execution_count": 2,
   "metadata": {},
   "outputs": [],
   "source": [
    "import numpy as np"
   ]
  },
  {
   "cell_type": "markdown",
   "metadata": {},
   "source": [
    "Now we can get to work! \n",
    "\n",
    "### NumPy Arrays"
   ]
  },
  {
   "cell_type": "code",
   "execution_count": null,
   "metadata": {},
   "outputs": [],
   "source": []
  }
 ],
 "metadata": {
  "kernelspec": {
   "display_name": "Python 3",
   "language": "python",
   "name": "python3"
  },
  "language_info": {
   "codemirror_mode": {
    "name": "ipython",
    "version": 3
   },
   "file_extension": ".py",
   "mimetype": "text/x-python",
   "name": "python",
   "nbconvert_exporter": "python",
   "pygments_lexer": "ipython3",
   "version": "3.6.9"
  }
 },
 "nbformat": 4,
 "nbformat_minor": 4
}

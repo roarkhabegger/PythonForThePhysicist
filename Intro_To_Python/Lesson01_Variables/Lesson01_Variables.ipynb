{
 "cells": [
  {
   "cell_type": "markdown",
   "metadata": {},
   "source": [
    "# Introduction to Coding (in Python)\n",
    "## Lesson 1 - Variables"
   ]
  },
  {
   "cell_type": "markdown",
   "metadata": {},
   "source": [
    "### Making Variables\n",
    "\n",
    "The first, fundamental concept in coding is the idea of a **variable**, or a piece of information stored by the code.\n",
    "\n",
    "In Python, you can create a variable using `=`\n",
    "\n",
    "Run the code below by clicking on the box and pressing Shift and Enter at the same time (or click the Run button above)\n",
    "\n",
    "**Example 1:**"
   ]
  },
  {
   "cell_type": "code",
   "execution_count": 7,
   "metadata": {},
   "outputs": [],
   "source": [
    "Var1 = 3.14\n",
    "vaR2 = 2.2\n",
    "c = \"speed of light is 3e8 m/s\""
   ]
  },
  {
   "cell_type": "markdown",
   "metadata": {},
   "source": [
    "\n",
    "The equals sign tells the code to take something on the right side of `=` (a number or text or different data type) and store it as a variable, located on the left of the `=` sign.\n",
    "\n",
    "The variables created in Example 1 are `Var1`, `vaR2`, and `c`.\n",
    "\n",
    "You can use any combination of letters and numbers (without spaces) as a variable. You cannot use a number as the first character of a variable, since the code would try to interpret it as a number. Try it! Python will give you an error for *Invalid Syntax*.\n",
    "\n",
    "**But if that is true, then why is it okay to use letters, since those are another data type (used in variable c)?**\n",
    "\n",
    ">The key is in the quotation marks we used when saving the text to the variable `c`. Putting a series of letters and digits inside single or double quotations in python creates a **string**. That is the data type of the variable `c`. \n"
   ]
  },
  {
   "cell_type": "markdown",
   "metadata": {},
   "source": [
    "### Printing\n",
    "\n",
    "Printing in python does not mean the code attaches to a printer and prints out a sheet of paper. The print function in python writes down the argument you give the function.\n",
    "\n",
    "**Example 2:**"
   ]
  },
  {
   "cell_type": "code",
   "execution_count": 10,
   "metadata": {},
   "outputs": [
    {
     "name": "stdout",
     "output_type": "stream",
     "text": [
      "My Name is Roark.\n"
     ]
    }
   ],
   "source": [
    "myVar = \"My Name is Roark.\"\n",
    "print(myVar)\n"
   ]
  },
  {
   "cell_type": "markdown",
   "metadata": {},
   "source": [
    ">**Problem 1:** \\\n",
    "Print `“Hello World!”` followed by the number Pi `3.14…` to two decimal places. \\\n",
    "*Note: The number Pi should not have quotation marks (single or double) around it. 3.14, not ‘3.14’*"
   ]
  },
  {
   "cell_type": "code",
   "execution_count": null,
   "metadata": {},
   "outputs": [],
   "source": []
  },
  {
   "cell_type": "markdown",
   "metadata": {},
   "source": [
    "### Addition, Division, and all that Jazz\n",
    "\n",
    "Since we can save numbers, it would be nice if we could perform all the mathematical operations we want on those saved numbers. In python, the characters used for basic mathematic operations are shown in the table below.\n",
    "\n",
    "| Operation\t| Python Symbol |\n",
    "| :-------\t| ----: |\n",
    "| Addition\t| `+` |\n",
    "| Subtraction\t| `-` |\n",
    "| Multiplication| `*` |\n",
    "| Division | `/` |\n",
    "| Exponentiation | `**` |\n",
    "\n",
    "\n",
    "Each of these operations can be applied to any variable that is a number!\n",
    "\n",
    "**Example 3:**\n"
   ]
  },
  {
   "cell_type": "code",
   "execution_count": 20,
   "metadata": {},
   "outputs": [
    {
     "name": "stdout",
     "output_type": "stream",
     "text": [
      "10\n"
     ]
    }
   ],
   "source": [
    "myNumber = 2\n",
    "squareOfMyNumber = myNumber**2\n",
    "newNumber = myNumber + squareOfMyNumber\n",
    "newNumber = newNumber - 1\n",
    "newNumber = newNumber * myNumber\n",
    "\n",
    "print(newNumber)"
   ]
  },
  {
   "cell_type": "markdown",
   "metadata": {},
   "source": [
    "Now, the last two lines of Example 3 can be simplified, since they end up being very common in coding. \n",
    "\n",
    "In both cases, we are doing something to the variable `newNumber` to get something new, then saving that new thing as the variable `newNumber`. \n",
    "\n",
    "So another way to think of `newNumber = newNumber – 1` is *'removing 1 from newNumber.'*\n",
    "\n",
    "The simpler way to write this is `newNumber -= 1`\n",
    "\n",
    "Similarly, for the last line, `newNumber *= myNumber`\n",
    "\n",
    "This also works for addition using the operation `+=`"
   ]
  },
  {
   "cell_type": "markdown",
   "metadata": {},
   "source": [
    ">**Problem 2:** \\\n",
    "Test python’s order of operations by printing out the value of $5 – 5 \\times 2^2$\\\n",
    "(you should get -15)"
   ]
  },
  {
   "cell_type": "code",
   "execution_count": null,
   "metadata": {},
   "outputs": [],
   "source": []
  },
  {
   "cell_type": "markdown",
   "metadata": {},
   "source": [
    "Now we need to look at division. \n",
    "\n",
    "Ideally, if we divide 1 by 2, we should get 0.5. Usually this works well in python!\n",
    "\n",
    "However, in certain cases the code might return 0 or 1 instead of 0.5 because of the **Data Type** of the variable.\n",
    "\n",
    "\n",
    "### Data Types\n",
    "\n",
    "Every variable contains some value of a certain data type. \n",
    "\n",
    "Some examples of data types are *integers*, *floats*, and *characters*. \n",
    "\n",
    "A computer’s memory is finite, and any given variable can only hold a certain amount of information, regardless of data type. Without getting into a discussion about bits, bytes, and memory, let’s just focus on the difference between integers and floats.\n",
    "\n",
    "*Numerical data*\n",
    "\n",
    "An integer is a number such as 1, 2, 5, -23, etc. \n",
    "\n",
    "In python, we can make anything an integer with the function `int()`\n",
    "\n",
    "**Example 4:**"
   ]
  },
  {
   "cell_type": "code",
   "execution_count": 22,
   "metadata": {},
   "outputs": [
    {
     "name": "stdout",
     "output_type": "stream",
     "text": [
      "2\n"
     ]
    }
   ],
   "source": [
    "n = int(2.10429)\n",
    "print(n)"
   ]
  },
  {
   "cell_type": "markdown",
   "metadata": {},
   "source": [
    "In this example, `n` will equal $2$ since the `int` function rounds its argument to the nearest integer.\n",
    "\n",
    "Similarly, the float function stores any number as its decimal interpretation.\n",
    "\n",
    "**Example 5:**\n",
    "\n"
   ]
  },
  {
   "cell_type": "code",
   "execution_count": 23,
   "metadata": {},
   "outputs": [
    {
     "name": "stdout",
     "output_type": "stream",
     "text": [
      "2.10429\n"
     ]
    }
   ],
   "source": [
    "a = float(2.10429)\n",
    "print(a)"
   ]
  },
  {
   "cell_type": "markdown",
   "metadata": {},
   "source": [
    "In this example `a` will be exactly $2.10429$, without any rounding. \n",
    "\n",
    "However, python does have limited precision and can only store floats and integers with a certain number of digits. Try to run the code in Bad Example 1.\n",
    "\n",
    "**Bad Example 1:** \n"
   ]
  },
  {
   "cell_type": "code",
   "execution_count": 24,
   "metadata": {},
   "outputs": [
    {
     "name": "stdout",
     "output_type": "stream",
     "text": [
      "2.190394578243096\n"
     ]
    }
   ],
   "source": [
    "a = 2.190394578243096158723985743109857\n",
    "print(a)"
   ]
  },
  {
   "cell_type": "markdown",
   "metadata": {},
   "source": [
    "In this case, a is actually stored as $2.190394578243096$, which contains $16$ digits. \n",
    "\n",
    "There are different data types than the basic `float` and `int` with more memory. But the default precision for a single number is $16$ significant digits.\n",
    "\n",
    ">**Problem 3** \\\n",
    "Using your new understanding of data types, predict what the following code will produce as output: \\\n",
    "`b = 2.0` \\\n",
    "`c = 5.0`\\\n",
    "`print(int(b/c))` \\\n",
    "`print(b/c)`\n",
    "\n"
   ]
  },
  {
   "cell_type": "code",
   "execution_count": null,
   "metadata": {},
   "outputs": [],
   "source": []
  },
  {
   "cell_type": "markdown",
   "metadata": {},
   "source": [
    "### Non-numerical data\n",
    "\n",
    "Most of the time, you will not store a single character in a variable. Instead, you will store a string of characters. \n",
    "\n",
    "A **string** is a special kind of **list**, one specifically made of characters and formatted differently.\n",
    "\n",
    "Lists in python are denoted with brackets [] and the elements of the list are separated by commas. \n",
    "\n",
    "**Example 6**\n"
   ]
  },
  {
   "cell_type": "code",
   "execution_count": 27,
   "metadata": {},
   "outputs": [
    {
     "name": "stdout",
     "output_type": "stream",
     "text": [
      "a\n",
      "a\n",
      "['a', 'b', 'c', 'd']\n",
      "abcd\n"
     ]
    }
   ],
   "source": [
    "L1 = [\"a\", 'b', \"c\", \"d\"]\n",
    "L2 = \"abcd\"\n",
    "print(L1[0])\n",
    "print(L2[0])\n",
    "print(L1)\n",
    "print(L2)\n"
   ]
  },
  {
   "cell_type": "markdown",
   "metadata": {},
   "source": [
    "Notice the notation of `L1[i]` where `i` is any integer value. This returns the $(i-1)^\\mathrm{th}$ component of the list (or string). \n",
    "\n",
    "AN IMPORTANT DISINCTION BETWEEN PYTHON AND OTHER LANGUAGES LIKE MATLAB IS **THE INDEXING OF LISTS STARTS AT 0, NOT 1.**\n",
    "\n",
    "**Indexing** is how a coding language labels the different components of a list. In python, the indexing begins at $0$, meaning that the first component in the list is given an index of $0$. This also means that the final component is given an index equivalent to the length of the list minus $1$.\n",
    "\n",
    "To better understand this, let’s learn about the `len` function.\n",
    "\n",
    "**Example 7:**\n",
    "\t"
   ]
  },
  {
   "cell_type": "code",
   "execution_count": 29,
   "metadata": {},
   "outputs": [
    {
     "name": "stdout",
     "output_type": "stream",
     "text": [
      "4\n",
      "d\n"
     ]
    }
   ],
   "source": [
    "L1 = [\"a\", 'b', \"c\", \"d\"]\n",
    "\n",
    "L1Len = len(L1)\n",
    "print(L1Len)\n",
    "print(L1[L1Len-1])"
   ]
  },
  {
   "cell_type": "markdown",
   "metadata": {},
   "source": [
    "Note that if you get rid of the `-1` in the last line of Example 7, then the code will return an IndexError because there is no component in the list with an index of $4$. \n",
    "\n",
    "Indexing is an important part of scientific programming, because data will be indexed into lists or **arrays**. This is another data type we will learn about later. \n"
   ]
  }
 ],
 "metadata": {
  "kernelspec": {
   "display_name": "Python 3",
   "language": "python",
   "name": "python3"
  },
  "language_info": {
   "codemirror_mode": {
    "name": "ipython",
    "version": 3
   },
   "file_extension": ".py",
   "mimetype": "text/x-python",
   "name": "python",
   "nbconvert_exporter": "python",
   "pygments_lexer": "ipython3",
   "version": "3.6.9"
  }
 },
 "nbformat": 4,
 "nbformat_minor": 4
}

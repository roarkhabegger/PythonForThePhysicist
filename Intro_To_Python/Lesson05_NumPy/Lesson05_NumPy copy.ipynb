{
 "cells": [
  {
   "cell_type": "markdown",
   "metadata": {},
   "source": [
    "# Introduction to Coding (in Python)\n",
    "## Lesson 5 - NumPy\n",
    "\n",
    "### NumPy\n",
    "\n",
    "\n",
    "NumPy is a python library. Libraries are what make python a powerful coding language used by scientists across the world. Your Python implementation will have several built-in libraries. It is possible that NumPy is not built in. Here are some quick instructions for making sure you have the NumPy library\n",
    "\n",
    ">**Getting Numpy** \\\n",
    "*In Anaconda* \\\n",
    "Open Anaconda Navigator. Use the left hand side of Navigator to get to Environments. Choose your default environment, and search your libraries for Numpy. If it is not installed, install it! You can do this by looking for all libraries, checking the box next to numpy, and hitting install.  \\\n",
    "\\\n",
    "*In terminal* \\\n",
    "If you have a base Python version available via a terminal you can use the command \\\n",
    "`python3 -m pip install numpy` or `python -m pip install numpy`\\\n",
    "to install the numpy library. \\\n",
    "\\\n",
    "For both these installations, you'll probably have to restart this notebook before you import the library here. \\\n",
    "**While you install numpy, you should also get `matplotlib`, as we'll use it in the next lesson.**  \\\n",
    "Other good libraries are `astropy`, `scipy`, and `glob`.\n",
    "\n",
    "To use a library in Python code, we import it:"
   ]
  },
  {
   "cell_type": "code",
   "execution_count": 42,
   "metadata": {},
   "outputs": [],
   "source": [
    "import numpy"
   ]
  },
  {
   "cell_type": "markdown",
   "metadata": {},
   "source": [
    "If the above does not work, make sure the numpy library is installed, then restart this notebook. If that does not work, then restart Jupyter notebook entirely. \n",
    "\n",
    "Because some libraries have long names, the import statement can be combined with `as` to rename the library in the code:"
   ]
  },
  {
   "cell_type": "code",
   "execution_count": 3,
   "metadata": {},
   "outputs": [],
   "source": [
    "import numpy as np"
   ]
  },
  {
   "cell_type": "markdown",
   "metadata": {},
   "source": [
    "Now we can get to work! \n",
    "\n",
    "### NumPy Arrays\n",
    "\n",
    "Numpy arrays are like lists, but better! They are more intuitive and easier to visualize. \n",
    "\n",
    "One big difference between lists and arrays is that Numpy arrays work better when you do not append new data to them. If you know how many entries you need in the array, go ahead and define it with a function like `np.zeros()`, then fill in the entries. \n",
    "\n",
    "**Example 1**\n",
    "\n",
    "Make a 3 by 3 array with $1$ along the diagonal. Below, I print out the array after `np.zeros()`, and after I have edited the diagonal."
   ]
  },
  {
   "cell_type": "code",
   "execution_count": 4,
   "metadata": {},
   "outputs": [
    {
     "name": "stdout",
     "output_type": "stream",
     "text": [
      "[[0. 0. 0.]\n",
      " [0. 0. 0.]\n",
      " [0. 0. 0.]]\n",
      "[[1. 0. 0.]\n",
      " [0. 1. 0.]\n",
      " [0. 0. 1.]]\n"
     ]
    }
   ],
   "source": [
    "myArr = np.zeros([3,3])\n",
    "print(myArr)\n",
    "myArr[0,0] = 1\n",
    "myArr[1,1] = 1\n",
    "myArr[2,2] = 1\n",
    "print(myArr)"
   ]
  },
  {
   "cell_type": "markdown",
   "metadata": {},
   "source": [
    "The above can be simplified with a different numpy function:"
   ]
  },
  {
   "cell_type": "code",
   "execution_count": 8,
   "metadata": {},
   "outputs": [
    {
     "name": "stdout",
     "output_type": "stream",
     "text": [
      "[[1. 0. 0.]\n",
      " [0. 1. 0.]\n",
      " [0. 0. 1.]]\n",
      "[[1. 0. 0.]\n",
      " [0. 1. 0.]\n",
      " [0. 0. 1.]]\n"
     ]
    }
   ],
   "source": [
    "myArr = np.diag([1.0,1.0,1.0])\n",
    "print(myArr)\n",
    "myArr = np.diag(np.ones(3))\n",
    "print(myArr)\n"
   ]
  },
  {
   "cell_type": "markdown",
   "metadata": {},
   "source": [
    "The above code shows two new functions `np.diag` and `np.ones`. Ones gives you an array of 1's instead of an array of zeros. However, ones and zeros work the same - you just give them the dimensions of your array. Diag takes a given 1 dimensional array and puts it along the diagonal of an array of zeros. \n",
    "\n",
    "Numpy arrays can get pretty complex. For example, what about an arbitrarily large number?\n",
    "\n",
    "**Example 2**"
   ]
  },
  {
   "cell_type": "code",
   "execution_count": 9,
   "metadata": {},
   "outputs": [
    {
     "name": "stdout",
     "output_type": "stream",
     "text": [
      "[[1. 0. 0. ... 0. 0. 0.]\n",
      " [0. 1. 0. ... 0. 0. 0.]\n",
      " [0. 0. 1. ... 0. 0. 0.]\n",
      " ...\n",
      " [0. 0. 0. ... 1. 0. 0.]\n",
      " [0. 0. 0. ... 0. 1. 0.]\n",
      " [0. 0. 0. ... 0. 0. 1.]]\n"
     ]
    }
   ],
   "source": [
    "n=100\n",
    "myArr = np.diag(np.ones(n))\n",
    "print(myArr)"
   ]
  },
  {
   "cell_type": "markdown",
   "metadata": {},
   "source": [
    "Because the above array is really long, python uses ellipses (...) to show less of the array. \n",
    "\n",
    "We can also have arrays with more than 2 dimensions:"
   ]
  },
  {
   "cell_type": "code",
   "execution_count": 20,
   "metadata": {},
   "outputs": [
    {
     "name": "stdout",
     "output_type": "stream",
     "text": [
      "[[[0. 0. 0.]\n",
      "  [0. 0. 0.]\n",
      "  [0. 0. 0.]]\n",
      "\n",
      " [[0. 0. 0.]\n",
      "  [0. 0. 0.]\n",
      "  [0. 0. 0.]]\n",
      "\n",
      " [[0. 0. 0.]\n",
      "  [0. 0. 0.]\n",
      "  [0. 0. 0.]]]\n"
     ]
    }
   ],
   "source": [
    "n=3\n",
    "myArr = np.zeros([n,n,n])\n",
    "print(myArr)"
   ]
  },
  {
   "cell_type": "markdown",
   "metadata": {},
   "source": [
    "### Grids of numbers... What's the point?\n",
    "\n",
    "Linear algebra is a basic mathematical formalism that underlies much of physics and computer science (and geology!). Arrays allow us to do linear algebra without writing out a bunch of computations! \n",
    "\n",
    "A simple math problem is a *system of equations*:\n",
    "$$3y + 2x  = 0$$\n",
    "$$x -6y = 6$$\n",
    "\n",
    "Most people who have taken algebra can solve this system. However, what if we have 3 or more variables? For example:\n",
    "\n",
    "$$4x +2y = 0$$\n",
    "$$3x -8y +3z= 6$$\n",
    "$$6z -10y= 3$$\n",
    "\n",
    "Once again, with brute force and time on your hands, most people can figure this out. But the computer can do it MUCH faster:\n",
    "\n",
    "**Example 3**"
   ]
  },
  {
   "cell_type": "code",
   "execution_count": 61,
   "metadata": {},
   "outputs": [
    {
     "name": "stdout",
     "output_type": "stream",
     "text": [
      "For the first system, x = 1.2 and y = -0.8\n"
     ]
    }
   ],
   "source": [
    "A = np.array([[2,3],[1,-6]])\n",
    "b = np.array([0,6])\n",
    "solution = np.dot(np.linalg.inv(A),b)\n",
    "print(\"For the first system, x = \"+format(solution[0],'1.1f')+\" and y = \"+format(solution[1],'1.1f'))"
   ]
  },
  {
   "cell_type": "markdown",
   "metadata": {},
   "source": [
    "Try the above numbers for yourself, and you'll find they are the correct solution for\n",
    "\n",
    "$$3y + 2x  = 0$$\n",
    "$$x -6y = 6$$\n",
    "\n",
    "Before we go on, I want to explain some linear algebra. The code above results from rearranging the equations into a linear algebra equation:\n",
    "$$\\left[ \\begin{array}{cc}\n",
    " 2 & 3 \\\\\n",
    " 1 & -6 \n",
    "\\end{array} \\right]\n",
    "\\left[ \\begin{array}{c}\n",
    " x \\\\\n",
    " y \n",
    "\\end{array} \\right]\n",
    "= \\left[ \\begin{array}{c}\n",
    " 0 \\\\\n",
    " 6 \n",
    "\\end{array} \\right]$$\n",
    "\n",
    "The above equation is equivalent to the the system of equations we had before! To multiply in linear algebra, I encourage you to take a look at https://www.mathsisfun.com/algebra/matrix-multiplying.html. \n",
    "\n",
    "Now, the above equation can be abbreviated to be \n",
    "$$\n",
    "A \\cdot \\vec{u} = \\vec{b}\n",
    "$$\n",
    "where each term is \n",
    "$$A = \\left[ \\begin{array}{cc}\n",
    " 2 & 3 \\\\\n",
    " 1 & -6 \n",
    "\\end{array} \\right]$$\n",
    "\n",
    "$$\\vec{u} = \\left[ \\begin{array}{c}\n",
    " x \\\\\n",
    " y \n",
    "\\end{array} \\right]$$\n",
    "\n",
    "$$\\vec{b} = \\left[ \\begin{array}{c}\n",
    " 0 \\\\\n",
    " 6 \n",
    "\\end{array} \\right]$$\n",
    "\n",
    "Then to solve the equation, we *divide* by $A$. But it is not obvious how to divide by an array. \n",
    "\n",
    "Instead, we use something called the Inverse of an array: $A^{-1}$.\n",
    "\n",
    "Now, there are many formulas and ways to derive the inverse of a matrix. Some matrices do not have an inverse! \n",
    "\n",
    "But that's a lot of math. Instead, let's just use the inverse to solve our problem:\n",
    "\n",
    "$$\n",
    "\\vec{u} = A^{-1} \\cdot \\vec{b}\n",
    "$$\n",
    "\n",
    "And that is what I did in code in Example 3! I multiplied the inverse of $A$ with $\\vec{b}$. That is then my solution array $\\vec{u}$.\n",
    "\n",
    "Now do the same thing with the other system of equations: \n",
    "> **Problem 1**\\\n",
    "Solve the system of equations below:\\\n",
    "$$4x +2y = 0$$\\\n",
    "$$3x -8y +3z= 6$$\\\n",
    "$$6z -10y= 3$$\\\n",
    "HINT: The above can also be written as \\\n",
    "$$\\left[ \\begin{array}{ccc}\n",
    " 4 & 2 & 0 \\\\\n",
    " 3 & -8 & 3 \\\\\n",
    " 0 & -10 & 6 \n",
    "\\end{array} \\right]\n",
    "\\left[ \\begin{array}{c}\n",
    " x \\\\\n",
    " y \\\\\n",
    " z\n",
    "\\end{array} \\right]\n",
    "= \\left[ \\begin{array}{c}\n",
    " 0 \\\\\n",
    " 6 \\\\\n",
    " 3\n",
    "\\end{array} \\right]$$"
   ]
  },
  {
   "cell_type": "code",
   "execution_count": null,
   "metadata": {},
   "outputs": [],
   "source": []
  },
  {
   "cell_type": "markdown",
   "metadata": {},
   "source": [
    "Hopefully you have started to see the importance of linear algebra and arrays in solving science problems!\n",
    "\n",
    "### Other parts of NumPy\n",
    "\n",
    "NumPy does more than just linear algebra and data storage. It also contains many of the various math functions you may have come across. Trigonometric functions, square root, and even the `sinc` function,\n",
    "$$\\mathrm{sinc}(x) = \\frac{\\sin(\\pi x)}{\\pi x}$$\n",
    "are included in NumPy. \n",
    "\n",
    "**Example 4**"
   ]
  },
  {
   "cell_type": "code",
   "execution_count": 60,
   "metadata": {},
   "outputs": [
    {
     "name": "stdout",
     "output_type": "stream",
     "text": [
      "3.141592653589793\n",
      "1.0\n"
     ]
    }
   ],
   "source": [
    "print(np.pi)\n",
    "print(np.sin(np.pi/2.0))\n"
   ]
  },
  {
   "cell_type": "markdown",
   "metadata": {},
   "source": [
    "It is important to note that `np.sin(angle)` assumes the angle is measured in radians. \n",
    "\n",
    "NumPy also has some other functions which contruct lists.\n",
    "\n",
    "**Example 5**"
   ]
  },
  {
   "cell_type": "code",
   "execution_count": 74,
   "metadata": {},
   "outputs": [
    {
     "name": "stdout",
     "output_type": "stream",
     "text": [
      "[ 0.  1.  2.  3.  4.  5.  6.  7.  8.  9. 10.]\n",
      "[1.e+00 1.e+01 1.e+02 1.e+03 1.e+04 1.e+05 1.e+06 1.e+07 1.e+08 1.e+09\n",
      " 1.e+10]\n"
     ]
    }
   ],
   "source": [
    "myLst = np.linspace(0,10,11)\n",
    "print(myLst)\n",
    "myLst = np.logspace(0,10,11)\n",
    "print(myLst)"
   ]
  },
  {
   "cell_type": "markdown",
   "metadata": {},
   "source": [
    "Mess around with the above list constructors. The final argument is the number of entries in the list. The first two arguments are the first and last entry. For `linspace`, the list is filled in by adding the step size\n",
    "$$\\Delta x = \\frac{\\mathrm{End} - \\mathrm{Start}}{\\mathrm{Num. \\, of \\, Entries}}$$\n",
    "to each successive entry. \n",
    "\n",
    "`logspace` is similar, but the quantities are spaced logarithmically. This is useful for plotting exponential and logarithmic functions (see next lesson on MatPlotLib).\n",
    "\n",
    "### Loops + Arrays\n",
    "\n",
    "Combining loops and arrays can help us solve very difficult problems. First, let's load in some data. NumPy can load text files, like comma separated tables (.csv files):\n",
    "\n",
    "**Example 6**\n",
    "In the file `myData.csv,` the grades of 250 students in a Calculus 1 class are recorded. There were 3 tests throughout the semester, and the final column has their grades on the final exam. You can load in the data with the function `np.loadtxt`:"
   ]
  },
  {
   "cell_type": "code",
   "execution_count": 39,
   "metadata": {},
   "outputs": [
    {
     "name": "stdout",
     "output_type": "stream",
     "text": [
      "(250, 4)\n",
      "[[ 55.  80.  88.  70.]\n",
      " [ 55.  67.  72.  84.]\n",
      " [ 56.  64.  77.  65.]\n",
      " [ 57.  56.  92.  67.]\n",
      " [ 57.  71.  81.  74.]\n",
      " [ 57.  71.  56.  89.]\n",
      " [ 58.  78.  84.  85.]\n",
      " [ 59.  72.  80.  58.]\n",
      " [ 60.  79.  59.  77.]\n",
      " [ 62.  71.  55.  78.]\n",
      " [ 62.  86.  65.  77.]\n",
      " [ 63.  83.  74.  81.]\n",
      " [ 64.  75.  68.  63.]\n",
      " [ 64.  74.  66.  82.]\n",
      " [ 65.  55.  63.  81.]\n",
      " [ 65.  64.  80.  59.]\n",
      " [ 65.  52.  89.  55.]\n",
      " [ 66.  80.  69.  88.]\n",
      " [ 66.  79.  64.  62.]\n",
      " [ 66.  64.  91.  89.]\n",
      " [ 66.  56.  62.  82.]\n",
      " [ 67.  73.  71.  87.]\n",
      " [ 67.  65.  76.  71.]\n",
      " [ 67.  55.  78.  75.]\n",
      " [ 67.  77.  95.  66.]\n",
      " [ 67.  58.  61.  67.]\n",
      " [ 67.  73.  79.  77.]\n",
      " [ 68.  63.  84.  68.]\n",
      " [ 68.  79.  86.  88.]\n",
      " [ 68.  74.  82.  82.]\n",
      " [ 68.  60.  77.  53.]\n",
      " [ 68.  58.  54.  79.]\n",
      " [ 69.  67.  85.  69.]\n",
      " [ 69.  77.  80.  69.]\n",
      " [ 69.  65.  60.  73.]\n",
      " [ 69.  78.  69.  88.]\n",
      " [ 70.  65.  73.  89.]\n",
      " [ 70.  70.  87.  76.]\n",
      " [ 71.  85.  91.  81.]\n",
      " [ 71.  65.  77.  88.]\n",
      " [ 71.  59.  57.  93.]\n",
      " [ 71.  60.  70.  78.]\n",
      " [ 71.  60.  53.  68.]\n",
      " [ 71.  49.  65.  57.]\n",
      " [ 72.  73.  61.  73.]\n",
      " [ 72.  66.  65.  76.]\n",
      " [ 72.  77.  75.  69.]\n",
      " [ 72.  69.  74.  74.]\n",
      " [ 72.  71.  54.  66.]\n",
      " [ 72.  53.  75.  61.]\n",
      " [ 72.  52.  70.  94.]\n",
      " [ 72.  52.  76.  95.]\n",
      " [ 73.  77.  84.  65.]\n",
      " [ 73.  51.  75.  81.]\n",
      " [ 73.  84.  69.  98.]\n",
      " [ 73.  79.  81.  63.]\n",
      " [ 73.  81.  71.  76.]\n",
      " [ 73.  69.  81.  85.]\n",
      " [ 74.  64.  75.  58.]\n",
      " [ 74.  54.  71.  86.]\n",
      " [ 74.  77.  53.  67.]\n",
      " [ 74.  80.  76.  64.]\n",
      " [ 74.  61.  81.  93.]\n",
      " [ 74.  65.  79.  81.]\n",
      " [ 74.  46.  62.  71.]\n",
      " [ 74.  78.  82.  70.]\n",
      " [ 74.  79.  65.  84.]\n",
      " [ 75.  80.  72.  77.]\n",
      " [ 75.  67.  55.  68.]\n",
      " [ 75.  84.  70.  79.]\n",
      " [ 75.  78.  67.  86.]\n",
      " [ 75.  64.  74.  74.]\n",
      " [ 75.  72.  76.  81.]\n",
      " [ 75.  50.  87.  72.]\n",
      " [ 75.  71.  86.  66.]\n",
      " [ 75.  53.  66.  62.]\n",
      " [ 75.  51.  72.  96.]\n",
      " [ 75.  63.  82.  91.]\n",
      " [ 76.  58.  75.  63.]\n",
      " [ 76.  80.  73.  72.]\n",
      " [ 76.  90.  71.  82.]\n",
      " [ 76.  71.  89.  74.]\n",
      " [ 76.  82.  82.  78.]\n",
      " [ 76.  64.  53.  56.]\n",
      " [ 76.  74.  84.  81.]\n",
      " [ 77.  65.  70.  70.]\n",
      " [ 77.  69.  81.  77.]\n",
      " [ 77.  81.  76.  80.]\n",
      " [ 77.  70.  67.  55.]\n",
      " [ 77.  53.  60.  93.]\n",
      " [ 77.  84.  84.  72.]\n",
      " [ 77.  68.  89.  68.]\n",
      " [ 77.  89.  65.  82.]\n",
      " [ 77.  63.  75.  71.]\n",
      " [ 77.  77.  72.  58.]\n",
      " [ 77.  71.  54.  77.]\n",
      " [ 77.  44.  81.  69.]\n",
      " [ 77.  60.  65.  72.]\n",
      " [ 77.  62.  46.  68.]\n",
      " [ 77.  65.  71.  72.]\n",
      " [ 77.  70.  65.  68.]\n",
      " [ 78.  61.  82.  66.]\n",
      " [ 78.  76.  79.  59.]\n",
      " [ 78.  76.  92.  75.]\n",
      " [ 78.  86.  84.  82.]\n",
      " [ 78.  73.  70.  71.]\n",
      " [ 78.  73.  86.  72.]\n",
      " [ 78.  77.  70.  77.]\n",
      " [ 78.  70.  80.  85.]\n",
      " [ 78.  60.  64.  87.]\n",
      " [ 79.  70.  73.  95.]\n",
      " [ 79.  70.  82.  74.]\n",
      " [ 79.  71.  47.  61.]\n",
      " [ 79.  57.  77.  82.]\n",
      " [ 79.  66.  70.  77.]\n",
      " [ 79.  60.  75.  73.]\n",
      " [ 79.  66.  72.  76.]\n",
      " [ 79.  65.  72.  70.]\n",
      " [ 79.  53.  80.  72.]\n",
      " [ 79.  61.  72.  82.]\n",
      " [ 79.  62.  61.  93.]\n",
      " [ 79.  73.  99.  73.]\n",
      " [ 79.  87.  73.  57.]\n",
      " [ 80.  66.  82.  77.]\n",
      " [ 80.  61.  90.  44.]\n",
      " [ 80.  75.  79.  82.]\n",
      " [ 80.  78.  72.  78.]\n",
      " [ 80.  67.  77.  80.]\n",
      " [ 80.  50.  71.  77.]\n",
      " [ 80.  72.  61.  68.]\n",
      " [ 80.  63.  73.  81.]\n",
      " [ 80.  80.  83.  70.]\n",
      " [ 80.  57.  86.  81.]\n",
      " [ 81.  84.  82.  58.]\n",
      " [ 81.  55.  63.  79.]\n",
      " [ 81.  60.  64.  78.]\n",
      " [ 81.  68.  86.  94.]\n",
      " [ 81.  78.  59.  66.]\n",
      " [ 81.  65.  85.  79.]\n",
      " [ 81.  54.  90.  75.]\n",
      " [ 81.  68.  70.  68.]\n",
      " [ 81.  72.  74.  93.]\n",
      " [ 81.  62.  74.  76.]\n",
      " [ 82.  49.  65.  63.]\n",
      " [ 82.  67.  80.  79.]\n",
      " [ 82.  58.  75.  71.]\n",
      " [ 82.  57.  75.  95.]\n",
      " [ 82.  63.  71.  75.]\n",
      " [ 82.  61.  64.  82.]\n",
      " [ 82.  67.  67.  64.]\n",
      " [ 83.  70.  71.  75.]\n",
      " [ 83.  65.  72.  81.]\n",
      " [ 83.  72.  61.  68.]\n",
      " [ 83.  78.  70.  84.]\n",
      " [ 83.  75.  59.  93.]\n",
      " [ 83.  84.  83.  89.]\n",
      " [ 83.  74.  86.  63.]\n",
      " [ 84.  61.  76.  79.]\n",
      " [ 84.  61.  86.  68.]\n",
      " [ 84.  68.  67.  93.]\n",
      " [ 84.  73.  62.  80.]\n",
      " [ 84.  80.  73. 100.]\n",
      " [ 84.  76.  92.  64.]\n",
      " [ 84.  71.  73.  81.]\n",
      " [ 84.  67.  70.  67.]\n",
      " [ 84.  71.  43.  64.]\n",
      " [ 84.  77.  80.  83.]\n",
      " [ 84.  73.  76.  87.]\n",
      " [ 85.  75.  89.  60.]\n",
      " [ 85.  68.  78.  99.]\n",
      " [ 85.  51.  89.  76.]\n",
      " [ 85.  79.  75.  79.]\n",
      " [ 85.  75.  71.  76.]\n",
      " [ 85.  69.  76.  65.]\n",
      " [ 85.  82.  78.  72.]\n",
      " [ 86.  69.  88.  95.]\n",
      " [ 86.  65.  67.  96.]\n",
      " [ 86.  79.  85.  67.]\n",
      " [ 86.  72.  87.  78.]\n",
      " [ 86.  67.  92.  94.]\n",
      " [ 86.  65.  85.  73.]\n",
      " [ 86.  66.  73.  87.]\n",
      " [ 86.  66.  78.  85.]\n",
      " [ 86.  74.  54.  80.]\n",
      " [ 87.  66.  60.  77.]\n",
      " [ 87.  74.  98.  67.]\n",
      " [ 87.  70.  67.  66.]\n",
      " [ 87.  65.  83.  74.]\n",
      " [ 87.  71.  75.  88.]\n",
      " [ 87.  85.  53.  77.]\n",
      " [ 87.  66.  91.  83.]\n",
      " [ 88.  76.  76.  76.]\n",
      " [ 88.  75.  73.  96.]\n",
      " [ 88.  62.  68.  87.]\n",
      " [ 88.  73.  72.  68.]\n",
      " [ 88.  67.  67.  86.]\n",
      " [ 88.  56.  78.  94.]\n",
      " [ 88.  69.  80.  64.]\n",
      " [ 88.  72.  91.  90.]\n",
      " [ 88.  46.  72.  80.]\n",
      " [ 89.  72.  58.  74.]\n",
      " [ 89.  71.  76.  87.]\n",
      " [ 90.  57.  81.  82.]\n",
      " [ 90.  60.  72.  66.]\n",
      " [ 90.  72.  71.  82.]\n",
      " [ 90.  62.  78.  98.]\n",
      " [ 90.  77.  85.  96.]\n",
      " [ 90.  82.  70.  90.]\n",
      " [ 90.  71.  59.  62.]\n",
      " [ 91.  74.  79.  78.]\n",
      " [ 91.  67.  83.  71.]\n",
      " [ 91.  77.  69.  71.]\n",
      " [ 91.  57.  79.  60.]\n",
      " [ 91.  89.  85.  69.]\n",
      " [ 91.  69.  77.  62.]\n",
      " [ 92.  72.  56.  97.]\n",
      " [ 92.  61.  76.  67.]\n",
      " [ 92.  68.  96.  95.]\n",
      " [ 92.  60.  87.  96.]\n",
      " [ 92.  62.  72.  95.]\n",
      " [ 92.  60.  97.  68.]\n",
      " [ 93.  78.  82.  61.]\n",
      " [ 93.  54.  64.  98.]\n",
      " [ 93.  82.  75.  76.]\n",
      " [ 93.  39.  94.  74.]\n",
      " [ 93.  92.  70.  57.]\n",
      " [ 93.  78.  62.  78.]\n",
      " [ 94.  85.  79.  78.]\n",
      " [ 94.  75.  66.  79.]\n",
      " [ 95.  63.  80.  74.]\n",
      " [ 95.  53.  67.  68.]\n",
      " [ 95.  86.  77.  81.]\n",
      " [ 95.  65.  78.  76.]\n",
      " [ 95.  55.  70.  83.]\n",
      " [ 96.  73.  73.  59.]\n",
      " [ 96.  66.  80.  78.]\n",
      " [ 97.  66.  71.  80.]\n",
      " [ 97.  80.  80.  63.]\n",
      " [ 99.  65.  70.  94.]\n",
      " [ 99.  85.  68.  77.]\n",
      " [ 99.  71.  80.  65.]\n",
      " [ 99.  67.  73.  88.]\n",
      " [100.  82.  66.  84.]\n",
      " [100.  89.  80.  73.]\n",
      " [100.  71.  70.  72.]\n",
      " [100.  67.  78.  61.]\n",
      " [100.  79.  71.  79.]\n",
      " [100.  62.  90.  75.]\n",
      " [100.  72.  71.  75.]\n",
      " [100.  65.  74.  90.]]\n"
     ]
    }
   ],
   "source": [
    "myData = np.loadtxt(\"myData.csv\",delimiter=',',skiprows=1)\n",
    "print(myData.shape)\n",
    "print(myData)"
   ]
  },
  {
   "cell_type": "markdown",
   "metadata": {},
   "source": [
    "Note the extra arguments. There is a delimiter, the character separating each value. Also, if you look at the file, it has headings, which are not numbers. Therefore, we tell NumPy to skip the 1st row, because it does not have data in it. \n",
    "\n",
    "We know how indexing works for list. They work similarly for arrays. We use `Lst[i]` to select entry number `i` in the list. \n",
    "\n",
    "Notice that `myData` has a shape `(250,4)`. This means the first dimension is each student. So the first student's grades are found with the command `myData[0]`. What if we want the grades for the first test, but all students? We can use a `:` for the index: `myData[:,0]`. This tells NumPy to return all the grades in the 1st column of the array.\n",
    "\n",
    ">**Problem 2**\\\n",
    "Find the mean score for the first test, using `np.average(data)`, where `data` is a just the grades from the first test."
   ]
  },
  {
   "cell_type": "code",
   "execution_count": null,
   "metadata": {
    "scrolled": false
   },
   "outputs": [],
   "source": []
  },
  {
   "cell_type": "markdown",
   "metadata": {},
   "source": [
    "Now, assuming the data on each test is [normally distributed](https://en.wikipedia.org/wiki/Normal_distribution), we can also calculate the standard deviation of the final test with:"
   ]
  },
  {
   "cell_type": "code",
   "execution_count": 43,
   "metadata": {},
   "outputs": [
    {
     "name": "stdout",
     "output_type": "stream",
     "text": [
      "10.820930828722638\n"
     ]
    }
   ],
   "source": [
    "print(np.std(myData[:,3]))"
   ]
  },
  {
   "cell_type": "markdown",
   "metadata": {},
   "source": [
    "That means about $68\\%$ of students fell within 10.8 points of the average score. The percentage is a result of our assumption that the scores follow a normal distribution.\n",
    "\n",
    ">**Problem 3** \\\n",
    "Compare the average and standard deviation of each test with the average and standard deviation of the final grades. \\\n",
    "    Hint: `np.average(myData,axis=1)` will return a list of the final grades. The `axis` parameter tells whether to average over columns or rows. `axis=0` is the default, and averages each column of the array. "
   ]
  },
  {
   "cell_type": "code",
   "execution_count": null,
   "metadata": {},
   "outputs": [],
   "source": []
  }
 ],
 "metadata": {
  "kernelspec": {
   "display_name": "Python 3",
   "language": "python",
   "name": "python3"
  },
  "language_info": {
   "codemirror_mode": {
    "name": "ipython",
    "version": 3
   },
   "file_extension": ".py",
   "mimetype": "text/x-python",
   "name": "python",
   "nbconvert_exporter": "python",
   "pygments_lexer": "ipython3",
   "version": "3.8.3"
  }
 },
 "nbformat": 4,
 "nbformat_minor": 4
}

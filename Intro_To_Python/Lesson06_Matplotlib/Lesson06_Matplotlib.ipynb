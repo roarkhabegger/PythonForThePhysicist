{
 "cells": [
  {
   "cell_type": "markdown",
   "metadata": {},
   "source": [
    "# Introduction to Coding (in Python)\n",
    "## Lesson 6 - Matplotlib\n",
    "\n",
    "### Matplotib\n",
    "\n",
    "Matplotlib is another python library. Hopefully you went ahead and downloaded it at the beginning of Lesson 5. If not, go back there to see how to import a library.\n",
    "\n",
    "Matplotlib helps us make plots! A common workflow is to do a bunch of calculations with NumPy, then visualize the results with Matplotlib.\n",
    "\n",
    "Matplotlib and NumPy together make the backbone of scientific coding in Python. We are getting to the point where you will have a skill set useful in various scientific disciplines!"
   ]
  },
  {
   "cell_type": "code",
   "execution_count": 2,
   "metadata": {},
   "outputs": [],
   "source": []
  },
  {
   "cell_type": "code",
   "execution_count": 84,
   "metadata": {},
   "outputs": [],
   "source": []
  },
  {
   "cell_type": "code",
   "execution_count": null,
   "metadata": {},
   "outputs": [],
   "source": []
  },
  {
   "cell_type": "code",
   "execution_count": null,
   "metadata": {},
   "outputs": [],
   "source": []
  }
 ],
 "metadata": {
  "kernelspec": {
   "display_name": "Python 3",
   "language": "python",
   "name": "python3"
  },
  "language_info": {
   "codemirror_mode": {
    "name": "ipython",
    "version": 3
   },
   "file_extension": ".py",
   "mimetype": "text/x-python",
   "name": "python",
   "nbconvert_exporter": "python",
   "pygments_lexer": "ipython3",
   "version": "3.8.3"
  }
 },
 "nbformat": 4,
 "nbformat_minor": 4
}

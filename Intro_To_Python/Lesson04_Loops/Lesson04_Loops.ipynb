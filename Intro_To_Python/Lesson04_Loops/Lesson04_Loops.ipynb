{
 "cells": [
  {
   "cell_type": "markdown",
   "metadata": {},
   "source": [
    "# Introduction to Coding (in Python)\n",
    "## Lesson 4 - Loops\n",
    "\n",
    "### Loops\n",
    "\n",
    "**Loops are powerful**. They are a necessity for coding. Some coding languages, like C++, C and Fortran, are extremely efficient when executing loops. Python is less efficient, but in many algorithms loops are necessary. In the next lesson when we learn about arrays, we'll see that some loops can be turned into single lines using NumPy. But the basic idea behind those array operations is a loop.\n",
    "\n",
    "In python, the simplest loop you can do is a `while` loop. Using a Boolean argument (see Lesson 3), the code can repeat over and over until the Boolean argument is `False`. That's the definition of a loop; the code does some lines of code again and again. \n",
    "\n",
    "Let's make a list of all the numbers between 1 and 1000 divisible by 3.\n",
    "\n",
    "**Example 1**"
   ]
  },
  {
   "cell_type": "code",
   "execution_count": 59,
   "metadata": {},
   "outputs": [
    {
     "name": "stdout",
     "output_type": "stream",
     "text": [
      "100\n",
      "[3, 6, 9, 12, 15, 18, 21, 24, 27, 30, 33, 36, 39, 42, 45, 48, 51, 54, 57, 60, 63, 66, 69, 72, 75, 78, 81, 84, 87, 90, 93, 96, 99]\n"
     ]
    }
   ],
   "source": [
    "StopNumber = 100\n",
    "count = 1 \n",
    "divThree = [] \n",
    "\n",
    "while count < StopNumber:\n",
    "    if (count % 3 == 0):\n",
    "        divThree.append(count)\n",
    "    count +=1\n",
    "\n",
    "print(count)\n",
    "print(divThree)\n"
   ]
  },
  {
   "cell_type": "markdown",
   "metadata": {},
   "source": [
    "Wow! Look how fast it checked all those numbers! Increase StopNumber to 1000, and then 10000. It still runs pretty fast and took no extra lines of code.\n",
    "\n",
    "The key part of the code is `while count < StopNumber:` if `count` never got above `StopNumber` then the code would keep going. A horrible thing to do is `while True:` Python will just run the code forever, as fast as it can. It could crash your computer! \n",
    "\n",
    "If you try that on purpose or accidently, use the stop button at the top of Jupyter Notebook to interrupt the code.\n",
    "\n",
    "### `for` Loops\n",
    "\n",
    "The other kind of loop is a `for` loop. Instead of waiting for a Boolean statement to be `False`, a `for` loop uses a list. It stops at the end of the list. In fact, we can use the `range` function in a `for` loop. \n",
    "\n",
    "The basic syntax of this loop is \n",
    "\n",
    "`for X in LIST`\n",
    "\n",
    "Luckily, the loop can take immutable lists! Therefore, we can do the exact same thing as in Example 1 with less lines:\n",
    "\n",
    "**Example 2**"
   ]
  },
  {
   "cell_type": "code",
   "execution_count": 60,
   "metadata": {},
   "outputs": [
    {
     "name": "stdout",
     "output_type": "stream",
     "text": [
      "99\n",
      "[3, 6, 9, 12, 15, 18, 21, 24, 27, 30, 33, 36, 39, 42, 45, 48, 51, 54, 57, 60, 63, 66, 69, 72, 75, 78, 81, 84, 87, 90, 93, 96, 99]\n"
     ]
    }
   ],
   "source": [
    "StopNumber = 100\n",
    "divThree = [] \n",
    "\n",
    "for count in range(1,StopNumber):\n",
    "    if (count % 3 == 0):\n",
    "        divThree.append(count)\n",
    "\n",
    "print(count)\n",
    "print(divThree)\n"
   ]
  },
  {
   "cell_type": "markdown",
   "metadata": {},
   "source": [
    "This time, we did not need to define `count` before the loop, and we did not need to add to it in the loop with `count +=1`. This is the power of for loops!\n",
    "\n",
    "### That's it. That's loops.... Let's use them!\n",
    "\n",
    "What's a crazy math problem? One that comes to my mind is finding prime numbers. They don't have any pattern, so they are difficult to calculate.\n",
    "\n",
    "However, they have a simple property: no number below them divides them. Any number is either prime, or can be split into the multiplication of prime numbers (prime factorization)\n",
    "\n",
    "For example, 144 is not a prime number, because it has a prime factorization\n",
    "\n",
    "$144 = 12 \\cdot 12 = 4 \\cdot 3 \\cdot 4 \\cdot 3 = 2^4 \\cdot 3^2$.\n",
    "\n",
    "Let's find all the prime numbers less than 1000!\n",
    "\n",
    "To do this, we'll need a *nested* loop. That just means a loop within a loop.\n",
    "\n",
    "**Example 3**\n"
   ]
  },
  {
   "cell_type": "code",
   "execution_count": 61,
   "metadata": {
    "scrolled": true
   },
   "outputs": [
    {
     "name": "stdout",
     "output_type": "stream",
     "text": [
      "[2, 3, 5, 7, 11, 13, 17, 19, 23, 29, 31, 37, 41, 43, 47, 53, 59, 61, 67, 71, 73, 79, 83, 89, 97, 101, 103, 107, 109, 113, 127, 131, 137, 139, 149, 151, 157, 163, 167, 173, 179, 181, 191, 193, 197, 199, 211, 223, 227, 229, 233, 239, 241, 251, 257, 263, 269, 271, 277, 281, 283, 293, 307, 311, 313, 317, 331, 337, 347, 349, 353, 359, 367, 373, 379, 383, 389, 397, 401, 409, 419, 421, 431, 433, 439, 443, 449, 457, 461, 463, 467, 479, 487, 491, 499, 503, 509, 521, 523, 541, 547, 557, 563, 569, 571, 577, 587, 593, 599, 601, 607, 613, 617, 619, 631, 641, 643, 647, 653, 659, 661, 673, 677, 683, 691, 701, 709, 719, 727, 733, 739, 743, 751, 757, 761, 769, 773, 787, 797, 809, 811, 821, 823, 827, 829, 839, 853, 857, 859, 863, 877, 881, 883, 887, 907, 911, 919, 929, 937, 941, 947, 953, 967, 971, 977, 983, 991, 997]\n"
     ]
    }
   ],
   "source": [
    "primes = [2]\n",
    "for x in range(3,1000):\n",
    "    isItPrime = True\n",
    "    for y in primes:\n",
    "        if (x % y == 0):\n",
    "            isItPrime = False\n",
    "            break\n",
    "    if isItPrime:\n",
    "        primes.append(x)\n",
    "print(primes)\n"
   ]
  },
  {
   "cell_type": "markdown",
   "metadata": {},
   "source": [
    "So did we just solve an unsolved math problem? No. \n",
    "\n",
    "In fact, as you increase the upper limit in `range(3,1000)` you'll notice the code takes longer to run (I do not recommend going above 100000). This is because of that nested loop. Since we add to the primes list, we make that inner loop of `y in primes` take longer every time we find a new prime number. This is an exponential growth in code run time. \n",
    "\n",
    "This is actually a lame algorithm - more complex and efficient algorithms can find larger prime numbers faster. For example, why bother checking even numbers at all?\n",
    "\n",
    "The most advanced math idea in this algorithm is the `break` statement. That is a way to end the loop. If the code reaches `break`, then it stops the loop it is in. Therefore, for the number 2000, we check 2 on the first time through `y in primes`. Since 2000 % 2 = 0, we know 2000 is not prime. By adding the `break`, the code does not continue to look through the primes list. It jumps out of the `y in primes` loop. Taking out that break statement will make the code take longer to run. \n",
    "\n",
    "That additional `break` statement idea is an important part of coding. If you can come up with an efficient algorithm, you can solve problems very quickly. \n",
    "\n",
    "We're 4 lessons in. \n",
    "\n",
    "Here's the first test of this course. I am going to give you a problem, and you have to not only write the code, but come up with an algorithm that solves the problem.\n",
    "\n",
    "> **Problem 1** \\\n",
    "How many sentences in the following text document have both the words \"the\" and \"machine\"?\n"
   ]
  },
  {
   "cell_type": "code",
   "execution_count": 58,
   "metadata": {
    "scrolled": true
   },
   "outputs": [],
   "source": [
    "file = str(open(\"adaLovelace.txt\").read()) #Open the file, only read it. Then put it in a string\n"
   ]
  },
  {
   "cell_type": "markdown",
   "metadata": {},
   "source": [
    "The answer is 4. And this should only require 1 loop, if you use some of the string tools we learned earlier. "
   ]
  }
 ],
 "metadata": {
  "kernelspec": {
   "display_name": "Python 3",
   "language": "python",
   "name": "python3"
  },
  "language_info": {
   "codemirror_mode": {
    "name": "ipython",
    "version": 3
   },
   "file_extension": ".py",
   "mimetype": "text/x-python",
   "name": "python",
   "nbconvert_exporter": "python",
   "pygments_lexer": "ipython3",
   "version": "3.6.9"
  }
 },
 "nbformat": 4,
 "nbformat_minor": 4
}

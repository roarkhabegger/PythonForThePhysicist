{
 "cells": [
  {
   "cell_type": "markdown",
   "metadata": {},
   "source": [
    "# Introduction to Coding (in Python)\n",
    "## Lesson 3 - Boolean\n",
    "\n",
    "### Boolean variables\n",
    "\n",
    "Boolean variables and statements get their name from George Boole, a mathematician in the 1800's. His symbolic logic is the basis for many computer operations. \n",
    "\n",
    "Boolean variables are truth based. A given Boolean variable is one of two things: `True` or `False`.\n",
    "\n",
    "**Example 1**"
   ]
  },
  {
   "cell_type": "code",
   "execution_count": 3,
   "metadata": {},
   "outputs": [
    {
     "name": "stdout",
     "output_type": "stream",
     "text": [
      "1\n",
      "False\n"
     ]
    }
   ],
   "source": [
    "Var1 = True\n",
    "var2 = False\n",
    "\n",
    "print(Var1 + var2)\n",
    "print(Var1 and var2)"
   ]
  },
  {
   "cell_type": "markdown",
   "metadata": {},
   "source": [
    "The above example creates two Boolean variables. The first print statement adds the variables. Because Boolean variables can either be true or false, they can also be treated as numbers; true is a 1, and false is a 0. Therefore adding True and False gives you 1. \n",
    "\n",
    "However, the last print statement is a more important operation. **Boolean logic** involves finding the truth value (either true or false) of a given logical statement. \n",
    "\n",
    ">Can a statement be both True and False at the same time? No, therefore `True and False` has a truth value of `False`. \\\n",
    "\n",
    "(I am sure some mathematicians would have my head on a pike for this explanation. But it gets the message across.)\n",
    "\n",
    "*Note:*  `True`, `and`, and `False` \n",
    "*are colored differently in the code of Example 1. These are protected words in Python. Don't try and make a variable with the name* `True`*! Trying to re-assign these protected words can have disasterous consequences for your code.*\n",
    "\n",
    "\n",
    "### Boolean statements\n",
    "\n",
    "The best part of Boolean logic is in evaluating **statements**. These often take the form of *If-Then* statements. Since these are special and useful, Python has protected words which help us implement them. \n",
    "\n",
    "Consider the following statement:\n",
    "\n",
    "> If my name is Roark, then I am a nerd.\n",
    "\n",
    "Let's write some code with an **input** statement to implement this statement. Run the code below:\n",
    "\n",
    "**Example 2**"
   ]
  },
  {
   "cell_type": "code",
   "execution_count": 4,
   "metadata": {},
   "outputs": [
    {
     "name": "stdout",
     "output_type": "stream",
     "text": [
      "What is your name? Roark\n",
      "You are a nerd\n"
     ]
    }
   ],
   "source": [
    "nom = input(\"What is your name? \")\n",
    "if nom == \"Roark\":\n",
    "    print(\"You are a nerd\")\n",
    "else:\n",
    "    print(\"You are not a nerd\")"
   ]
  },
  {
   "cell_type": "markdown",
   "metadata": {},
   "source": [
    "What did the function `input` do? It created a textbox for you to interact with the code!\n",
    "\n",
    "Whatever you typed in, it saved as a variable `nom`. Then it used that variable to evaluate a Boolean statement\n",
    "\n",
    ">`nom == \"Roark\"`\n",
    "\n",
    "where the `==` symbol is Python code meaning \"is equal to\".\n",
    "\n",
    "If you entered the string `Roark`, then this statement would be \n",
    "> `\"Roark\" is equal to \"Roark\"`\n",
    "\n",
    "which is True! Then the code runs the indented line below the `if` command. Note the `:` at the end of the *if* statement. This communicates to the Python compiler the *if* part of Boolean statement is finished, and that the indented code below is the *then* part of the statement.\n",
    "\n",
    "After the print statement, the next line has an `else:` statement. If the `if` part of the statement were false, then the code under the `else:` statement is run. \n",
    "\n",
    "If you entered a string different than `\"Roark\"`, then it would run the print statement underneath the `else:` command.\n",
    "\n",
    "**Problem 1**\n",
    ">Write code which asks for your age and says whether you are an adult (18 or older)"
   ]
  },
  {
   "cell_type": "code",
   "execution_count": null,
   "metadata": {},
   "outputs": [],
   "source": []
  },
  {
   "cell_type": "markdown",
   "metadata": {},
   "source": [
    "Hopefully you got the above working! However, it brings us to another problem: string variables have an extensive number of possibilities! Does your code work if I input the string `'fifteen'` instead of an integer? Does it work if I input `'30/2'`? Probably not!\n",
    "\n",
    "This kind of error makes coding a program used by millions of people difficult. The old joke of *user error,* where the user is the problem, can actually be a result of poor coding. When writing code used by others, make sure to comment the code! In python, comments are denoted with `#` and `''' '''`. This is text in the code which does not get run! In comments, you can explain the code.\n",
    "\n",
    "**Example 1 with Comments**"
   ]
  },
  {
   "cell_type": "code",
   "execution_count": 1,
   "metadata": {},
   "outputs": [
    {
     "name": "stdout",
     "output_type": "stream",
     "text": [
      "What is your name? Roark\n",
      "You are a nerd\n"
     ]
    }
   ],
   "source": [
    "# Get the user's name\n",
    "nom = input(\"What is your name? \")\n",
    "\n",
    "#See if the user is Roark\n",
    "if nom == \"Roark\":\n",
    "    #If the user is Roark, insult them\n",
    "    print(\"You are a nerd\")\n",
    "else:\n",
    "    #If the user is not Roark, be nice\n",
    "    print(\"You are not a nerd\")"
   ]
  },
  {
   "cell_type": "markdown",
   "metadata": {},
   "source": [
    "The above code runs exactly the same as Example 1, but it has text in there meant for other coders to see! That text explains the code.\n",
    "\n",
    "Even if you are the only one who ever uses the code you write, comments can help your future self out. \n",
    "\n",
    "### More Boolean operations!\n",
    "\n",
    "Let's do some more complex work with Boolean variables. Let's introduce another function which will be useful, `range(a,b,step=1)`. This function returns an *immutable* list of numbers going from `a` to `b`, by taking steps of size `step`. The notation `step=1` means you do not need to give a step variable to the function - it will just assume you want a step size of `1`. In the following example, I create a *mutable* list which uses a step size of 3.\n",
    "\n",
    "**Example 3**"
   ]
  },
  {
   "cell_type": "code",
   "execution_count": 21,
   "metadata": {},
   "outputs": [
    {
     "name": "stdout",
     "output_type": "stream",
     "text": [
      "[1, 4, 7, 10, 13, 16, 19, 22, 25, 28, 31, 34, 37, 40, 43, 46, 49, 52, 55, 58, 61, 64, 67, 70, 73]\n",
      "range(1, 60, 2)\n",
      "55 is not an even number!\n"
     ]
    }
   ],
   "source": [
    "#create a list of numbers\n",
    "iCanCount = list(range(1,75,3))\n",
    "print(iCanCount)\n",
    "print(range(1,60,2))\n",
    "\n",
    "#Select a number via its index\n",
    "indexToTest = 18\n",
    "\n",
    "#Calculate what half of it is\n",
    "halfNumber = iCanCount[indexToTest]/2.0\n",
    "halfNumberInt = int(iCanCount[indexToTest]/2.0)\n",
    "\n",
    "#if half of the number is an integer then it is an even number\n",
    "if halfNumber == halfNumberInt:\n",
    "    print(str(iCanCount[indexToTest])+\" is an even number!\")\n",
    "else:\n",
    "    print(str(iCanCount[indexToTest])+\" is not an even number!\")"
   ]
  },
  {
   "cell_type": "markdown",
   "metadata": {},
   "source": [
    "Hopefully the above example looks less scary after the previous lessons!! Let's still break it down. \n",
    "\n",
    "First, the `list()` function takes the `range` functions output and gives me a good old list, what we are familiar with. It is mutable, meaning we can edit and change the values. The original function does not really give you a list like we are used to, but instead something that is unchangeable - you can't edit any of the values. That is what I meant before concerning mutability.  \n",
    "\n",
    "Next, I get the number I want to test with `indexToTest`; note this number and the number in the list are different! ` iCanCount[indexToTest]` is the number at position `indexToTest` in the list `iCanCount`. \n",
    "\n",
    "After that I have a short algorithm for deciding if a number is even: if I divide an odd number by 2, then I get a non-integer value. The function `int(n)` rounds `n` down. Therefore, if I took the number 55, `halfNumber=27.5` but `halfNumberInt=27`. They are not equal. Then in the Boolean statement, the code runs the line under `else:`.\n",
    "\n",
    "**Problem 2**\n",
    "> Make a list of only even numbers. Take a number from it. If it is NOT divisible by 3, then print out the number followed by \" is not divisible by  3\". Do not use `print()` if it is divisible by 3. \\\n",
    "*Hint: you only need an* `if .... :` *line here, no* `else:` \\\n",
    "*Also,* `!=` *means \"is not equal to\"*"
   ]
  },
  {
   "cell_type": "code",
   "execution_count": null,
   "metadata": {},
   "outputs": [],
   "source": []
  }
 ],
 "metadata": {
  "kernelspec": {
   "display_name": "Python 3",
   "language": "python",
   "name": "python3"
  },
  "language_info": {
   "codemirror_mode": {
    "name": "ipython",
    "version": 3
   },
   "file_extension": ".py",
   "mimetype": "text/x-python",
   "name": "python",
   "nbconvert_exporter": "python",
   "pygments_lexer": "ipython3",
   "version": "3.6.9"
  }
 },
 "nbformat": 4,
 "nbformat_minor": 4
}

{
 "cells": [
  {
   "cell_type": "markdown",
   "metadata": {},
   "source": [
    "# Introduction to Coding (in Python)\n",
    "## Lesson 3 - Boolean\n",
    "\n",
    "### Boolean variables\n",
    "\n",
    "Boolean variables and statements get their name from George Boole, a mathematician in the 1800's. His symbolic logic is the basis for many computer operations. \n",
    "\n",
    "Boolean variables are truth based. A given Boolean variable is one of two things: `True` or `False`.\n",
    "\n",
    "**Example 1**"
   ]
  },
  {
   "cell_type": "code",
   "execution_count": 3,
   "metadata": {},
   "outputs": [
    {
     "name": "stdout",
     "output_type": "stream",
     "text": [
      "1\n",
      "False\n"
     ]
    }
   ],
   "source": [
    "Var1 = True\n",
    "var2 = False\n",
    "\n",
    "print(Var1 + var2)\n",
    "print(Var1 and var2)"
   ]
  },
  {
   "cell_type": "markdown",
   "metadata": {},
   "source": [
    "The above example creates two Boolean variables. The first print statement adds the variables. Because Boolean variables can either be true or false, they can also be treated as numbers; true is a 1, and false is a 0. Therefore adding True and False gives you 1. \n",
    "\n",
    "However, the last print statement is a more important operation. **Boolean logic** involves finding the truth value (either true or false) of a given logical statement. \n",
    "\n",
    ">Can a statement be both True and False at the same time? No, therefore `True and False` has a truth value of `False`. \\\n",
    "(I am sure some mathematicians would have my head on a pike for that explanation. But it gets the message across.)\n",
    "\n",
    "*Note:*  `True`, `and`, and `False` \n",
    "*are colored differently in the code of Example 1. These are protected words in Python. Don't try and make a variable with the name* `True`*! Trying to re-assign these protected words can have disasterous consequences for your code.*\n",
    "\n",
    "\n",
    "### Boolean statements\n",
    "\n",
    "The best part of Boolean logic is in evaluating **statements**. These often take the form of *If-Then* statements. Since these are special and useful, Python has protected words which help us implement them. \n",
    "\n",
    "Consider the following statement:\n",
    "\n",
    "> If my name is Roark, then I am a nerd.\n",
    "\n",
    "Let's write some code with an **input** statement to implement this statement. Run the code below:\n",
    "\n",
    "**Example 2**"
   ]
  },
  {
   "cell_type": "code",
   "execution_count": 4,
   "metadata": {},
   "outputs": [
    {
     "name": "stdout",
     "output_type": "stream",
     "text": [
      "What is your name? Roark\n",
      "You are a nerd\n"
     ]
    }
   ],
   "source": [
    "nom = input(\"What is your name? \")\n",
    "if nom == \"Roark\":\n",
    "    print(\"You are a nerd\")\n",
    "else:\n",
    "    print(\"You are not a nerd\")"
   ]
  },
  {
   "cell_type": "markdown",
   "metadata": {},
   "source": [
    "What did the function `input` do? It created a textbox for you to interact with the code!\n",
    "\n",
    "Whatever you typed in, it saved as a variable `nom`. Then it used that variable to evaluate a Boolean statement\n",
    "\n",
    ">`nom == \"Roark\"`\n",
    "\n",
    "where the `==` symbol is Python code meaning \"is equal to\".\n",
    "\n",
    "If you entered the string `Roark`, then this statement would be \n",
    "> `\"Roark\" is equal to \"Roark\"`\n",
    "\n",
    "which is True! Then the code runs the indented line below the `if` command. Note the `:` at the end of the *if* statement. This communicates to the Python compiler the *if* part of Boolean statement is finished, and that the indented code below is the *then* part of the statement.\n",
    "\n",
    "After the print statement, the next line has an `else:` statement. If the `if` part of the statement were false, then the code under the `else:` statement is run. \n",
    "\n",
    "If you entered a string different than `\"Roark\"`, then it would run the print statement underneath the `else:` command. "
   ]
  },
  {
   "cell_type": "markdown",
   "metadata": {},
   "source": []
  }
 ],
 "metadata": {
  "kernelspec": {
   "display_name": "Python 3",
   "language": "python",
   "name": "python3"
  },
  "language_info": {
   "codemirror_mode": {
    "name": "ipython",
    "version": 3
   },
   "file_extension": ".py",
   "mimetype": "text/x-python",
   "name": "python",
   "nbconvert_exporter": "python",
   "pygments_lexer": "ipython3",
   "version": "3.6.9"
  }
 },
 "nbformat": 4,
 "nbformat_minor": 4
}

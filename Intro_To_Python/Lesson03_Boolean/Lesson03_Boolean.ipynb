{
 "cells": [
  {
   "cell_type": "markdown",
   "metadata": {},
   "source": [
    "# Introduction to Coding (in Python)\n",
    "## Lesson 3 - Boolean\n",
    "\n",
    "### Boolean variables\n",
    "\n",
    "Boolean variables and statements get their name from George Boole, a mathematician in the 1800's. His symbolic logic is the basis for many computer operations. \n",
    "\n",
    "Boolean variables are truth based. A given Boolean variable is one of two things: `True` or `False`.\n",
    "\n",
    "**Example 1**"
   ]
  },
  {
   "cell_type": "code",
   "execution_count": 3,
   "metadata": {},
   "outputs": [
    {
     "name": "stdout",
     "output_type": "stream",
     "text": [
      "1\n",
      "False\n"
     ]
    }
   ],
   "source": [
    "Var1 = True\n",
    "var2 = False\n",
    "\n",
    "print(Var1 + var2)\n",
    "print(Var1 and var2)"
   ]
  },
  {
   "cell_type": "markdown",
   "metadata": {},
   "source": [
    "The above example creates two Boolean variables. The first print statement adds the variables. Because Boolean variables can either be true or false, they can also be treated as numbers; true is a 1, and false is a 0. Therefore adding True and False gives you 0. \n",
    "\n",
    "However, the last print statement is a more important operation. **Boolean logic** involve finding the truth value (either true or false) of a given logical statement. \n",
    "\n",
    "Can a statement be both True and False at the same time? No, therefore `True and False` has a truth value of `False`.\n",
    "\n",
    "*Note:*  `True`, `and`, and `False` \n",
    "*are colored differently in the code of Example 1. These are protected words in Python. Don't try and make a variable with the name* `True`*! Trying to re-assign these protected words can have disasterous consequences for your code.*"
   ]
  },
  {
   "cell_type": "code",
   "execution_count": null,
   "metadata": {},
   "outputs": [],
   "source": []
  }
 ],
 "metadata": {
  "kernelspec": {
   "display_name": "Python 3",
   "language": "python",
   "name": "python3"
  },
  "language_info": {
   "codemirror_mode": {
    "name": "ipython",
    "version": 3
   },
   "file_extension": ".py",
   "mimetype": "text/x-python",
   "name": "python",
   "nbconvert_exporter": "python",
   "pygments_lexer": "ipython3",
   "version": "3.6.9"
  }
 },
 "nbformat": 4,
 "nbformat_minor": 4
}

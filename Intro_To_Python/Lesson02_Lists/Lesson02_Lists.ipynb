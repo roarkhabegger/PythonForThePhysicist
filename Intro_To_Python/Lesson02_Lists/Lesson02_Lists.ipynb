{
 "cells": [
  {
   "cell_type": "markdown",
   "metadata": {},
   "source": [
    "# Introduction to Coding (in Python)\n",
    "## Lesson 2 - Lists"
   ]
  },
  {
   "cell_type": "markdown",
   "metadata": {},
   "source": [
    "### Defining a list\n",
    "\n",
    "In the previous lesson, we covered variables and different variable types. Lists are a special form of variable in python, where a sequence of variables are indexed (given an order). While the list itself has a data type (a list), each component of the list can have its own data type.\n",
    "\n",
    "A beautiful aspect of lists is their ability to contain multiple data types.\n",
    "\n",
    "**Example 1**"
   ]
  },
  {
   "cell_type": "code",
   "execution_count": 26,
   "metadata": {},
   "outputs": [
    {
     "name": "stdout",
     "output_type": "stream",
     "text": [
      "[9, 8.23, 'seven', 'bread']\n"
     ]
    }
   ],
   "source": [
    "list1 = [9,8.23,'seven','bread']\n",
    "print(list1)\n"
   ]
  },
  {
   "cell_type": "markdown",
   "metadata": {},
   "source": [
    "In `list1` there are 3 different data types.\n",
    "\n",
    ">**Problem 1** \\\n",
    "List the data type of each variable in `list1`. \n",
    "1. The data type of `list1[0]` is \n",
    "2. The data type of `list1[1]` is \n",
    "3. The data type of `list1[2]` is\n",
    "4. The data type of `list1[3]` is"
   ]
  },
  {
   "cell_type": "markdown",
   "metadata": {},
   "source": [
    "### Strings \n",
    "\n",
    "As mentioned in the last lesson, strings are essentially a *list* of *characters*. However, because a string is a separately recognized data type in Python, we can use some special functions which help us **parse** string variables.\n",
    "\n",
    "**Example 2**"
   ]
  },
  {
   "cell_type": "code",
   "execution_count": 27,
   "metadata": {},
   "outputs": [
    {
     "name": "stdout",
     "output_type": "stream",
     "text": [
      "Magnetohydrodynamics (MHD; also magneto-fluid dynamics or hydro-magnetics) is the study of the magnetic properties and behaviour of electrically conducting fluids. Examples of such magneto-fluids include plasmas, liquid metals, salt water, and electrolytes. The word 'magneto-hydro-dynamics' is derived from magneto- meaning magnetic field, hydro- meaning water, and dynamics meaning movement [from Wikipedia page on MHD].\n",
      "\n",
      "The first sentence is: \n",
      "Magnetohydrodynamics (MHD; also magneto-fluid dynamics or hydro-magnetics) is the study of the magnetic properties and behaviour of electrically conducting fluids\n"
     ]
    }
   ],
   "source": [
    "myString = \"Magnetohydrodynamics (MHD; also magneto-fluid dynamics or hydro-magnetics) is the study of the magnetic properties and behaviour of electrically conducting fluids. Examples of such magneto-fluids include plasmas, liquid metals, salt water, and electrolytes. The word 'magneto-hydro-dynamics' is derived from magneto- meaning magnetic field, hydro- meaning water, and dynamics meaning movement [from Wikipedia page on MHD].\"\n",
    "print(myString)\n",
    "print()\n",
    "sentences = myString.split('. ')\n",
    "print(\"The first sentence is: \")\n",
    "print(sentences[0])"
   ]
  },
  {
   "cell_type": "markdown",
   "metadata": {},
   "source": [
    "As the last example illustrates, a string variable can be very long. In fact, coders who mess with webpages in Python might save an entire webpage (the raw HTML code of the page) as a string variable!\n",
    "\n",
    "Every string variable has attributes and functions. By adding `.split('X')` at the end of the string variable, we are asking the computer to cut the original string everywhere the string `X` appears. This **returns** a list of strings! We choose to save this as a new variable, `sentences`.\n",
    "\n",
    "`split` isn't the only thing we can do with strings! Take a look at https://docs.python.org/3/library/stdtypes.html#string-methods\n",
    "\n",
    "This provides a list of all the **methods** available to a string. `.split('X')` is an example of a method.\n",
    "\n",
    "Explaining a method would require Object-Oriented Programming (OOP), which is beyond the scope of this python tutorial. \n",
    "\n",
    "Instead, focus on a method being similar to a trigonometric function, or a square root symbol. Can you evaluate the $\\sin(x)$ for any number $x$ in your head? Probably not. Instead, you use the special button on a calculator, or Google! \n",
    "\n",
    "But the point is every real number can be plugged into $\\sin(x)$. That expression gives you a new number! A method in coding works the same way: it takes a variable and gives you a new variable. Similar to a trigonometric function, it is not immediately obvious how the method does its calculation. \n",
    "\n",
    ">**Problem 2** \\\n",
    "Using the link (https://docs.python.org/3/library/stdtypes.html#string-methods) to the built-in methods for strings, find a function you can use to count the number of times the letter `a` appears in the variable `myStr` from Example 2. The answer is $30$.\n",
    "\n"
   ]
  },
  {
   "cell_type": "code",
   "execution_count": null,
   "metadata": {},
   "outputs": [],
   "source": []
  },
  {
   "cell_type": "markdown",
   "metadata": {},
   "source": [
    "Another method you might have noticed is `.find('y')`. Let's use it to extract the citation from `myString`.\n",
    "\n",
    "**Example 3**"
   ]
  },
  {
   "cell_type": "code",
   "execution_count": 32,
   "metadata": {},
   "outputs": [
    {
     "name": "stdout",
     "output_type": "stream",
     "text": [
      "393 420\n",
      "[from Wikipedia page on MHD]\n"
     ]
    }
   ],
   "source": [
    "openBracket = myString.find('[')\n",
    "closeBracket = myString.find(']')\n",
    "\n",
    "print(openBracket,closeBracket)\n",
    "\n",
    "print(myString[openBracket:closeBracket+1])"
   ]
  },
  {
   "cell_type": "markdown",
   "metadata": {},
   "source": [
    "The method `.find('x')` found the *position* of the character we gave it! I.e. the open bracket appears at index 393 of the string, and the close bracket appears at index 420 of the string.\n",
    "\n",
    "Using the notation `myString[n]` with `n` being an integer, we can use the numbers we found to select the citation. However, why is there a `closeBracket+1`? Why are we adding 1 to the index of the close bracket? \n",
    "\n",
    "Indices, the numbers we pass to a list to say what entries we want, are by default a closed:open interval. They include the first index and exclude the final index. I.e. `openBracket:closeBracket+1` gets all the indices `openBracket, openBracket+1, openBracket+2, ...., closeBracket -1, closeBracket`. \n",
    "\n",
    "This directly relates to math! We might say a function is valid over a domain $[0,1)$. This implies the function does not return a value at 1, but it does at 0.99999999... \n",
    "\n",
    "***I added the 1 to `closeBracket` because I wanted to print out the final bracket as well***.\n",
    "\n",
    "Well, let's pretend you don't want either of the brackets. \n",
    "\n",
    ">**Problem 3** \\\n",
    "Edit the final line of Example 3 to print out the citation *without* the brackets. \\\n",
    "Hint: You do not need any more lines of code, just change the quantity inside the parentheses of the print function.\n",
    "\n",
    "### Multi-Dimensional Lists\n",
    "\n",
    "Next we need to talk about nested lists. This is something which is easier to show before explaining.\n",
    "\n",
    "**Example 4**"
   ]
  },
  {
   "cell_type": "code",
   "execution_count": 33,
   "metadata": {},
   "outputs": [
    {
     "name": "stdout",
     "output_type": "stream",
     "text": [
      "1\n",
      "[1, 2, 3]\n",
      "1\n"
     ]
    }
   ],
   "source": [
    "FlatLst = [  1,   2,   3,\n",
    "           0.1, 0.2, 0.3, 0.4]\n",
    "myLst = [[  1,   2,   3],\n",
    "         [0.1, 0.2, 0.3, 0.4]]\n",
    "print(FlatLst[0])\n",
    "print(myLst[0])\n",
    "print(myLst[0][0])"
   ]
  },
  {
   "cell_type": "markdown",
   "metadata": {},
   "source": [
    "`myLst` and `FlatLst` have the same number of entries, $7$. However, the entries have a different arrangment in `myLst`. To get a single element of the nested list `myLst`, we need to give it 2 index values. Giving only one index to the nested list returns one of the lists in the list! \n",
    "\n",
    "This might not be evidently useful now, but when we work with **arrays** later, the use of nested lists will become more important. \n",
    "\n",
    "Going back to the `sentences` object from Example 2, we can find a specific character in the first sentence: "
   ]
  },
  {
   "cell_type": "code",
   "execution_count": 35,
   "metadata": {},
   "outputs": [
    {
     "name": "stdout",
     "output_type": "stream",
     "text": [
      "r\n"
     ]
    }
   ],
   "source": [
    "print(sentences[0][10])"
   ]
  },
  {
   "cell_type": "markdown",
   "metadata": {},
   "source": [
    "Because a string is a list of characters, the string `sentences[0]` has its own indexing which we can use to find a specific character (similar to Example 3). \n",
    "\n",
    "From that perspective, the variable `sentences` is a nested list!\n",
    "\n"
   ]
  },
  {
   "cell_type": "code",
   "execution_count": null,
   "metadata": {},
   "outputs": [],
   "source": []
  }
 ],
 "metadata": {
  "kernelspec": {
   "display_name": "Python 3",
   "language": "python",
   "name": "python3"
  },
  "language_info": {
   "codemirror_mode": {
    "name": "ipython",
    "version": 3
   },
   "file_extension": ".py",
   "mimetype": "text/x-python",
   "name": "python",
   "nbconvert_exporter": "python",
   "pygments_lexer": "ipython3",
   "version": "3.6.9"
  }
 },
 "nbformat": 4,
 "nbformat_minor": 4
}

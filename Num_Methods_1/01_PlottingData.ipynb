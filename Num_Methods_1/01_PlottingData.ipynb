{
 "cells": [
  {
   "cell_type": "markdown",
   "metadata": {},
   "source": [
    "# Lesson 1:  Reading Files and Plotting Data\n",
    "\n",
    "Assuming you have acquired some data and need to analyze it, how do we go about processing the data and presenting it?\n",
    "\n",
    "The answer is `numpy.loadtxt` or a similar file loading function. For presentation, the entire `matplotlib.pyplot` library is priceless. You may have also learned of the `scipy` library which is useful in the numerical processing of data.\n",
    "\n",
    "NOTE: Say these how you wish. I have heard 'num-pie' and 'num-pee', as well as 'sigh-pie' and 'sky-pee'"
   ]
  },
  {
   "cell_type": "markdown",
   "metadata": {},
   "source": [
    "## Loading a `.csv` file\n",
    "\n",
    "Look in the DataFolder in the Num_Methods_1 Directory. There should be a file labelled `01_DataA`. Rename it to `01_DataA.csv` in either the jupyter notebook interface or in your own file viewer if it still is a `.txt` File. This is the beauty of many data files you can find online: they have delimiters and can be directly changed to a `.csv` file with no extra effort on your part. Additionally, as long as the formatting is correct, most of the python functions do not care what the end of the file name is!\n",
    "\n",
    "A great site to get some arbitrary data is https://www.ncdc.noaa.gov/cdo-web/datasets as weather allows for a lot of interesting trends with a baseline cyclic pattern. `01_DataA` contains hourly averages of temperature and pressure across North Carolina in one year."
   ]
  },
  {
   "cell_type": "markdown",
   "metadata": {},
   "source": [
    "Go to https://numpy.org/doc/stable/reference/generated/numpy.loadtxt.html?highlight=loadtxt#numpy.loadtxt and check out the documentation for numpy.loadtxt to solve the following exercise.\n",
    "\n",
    "### Exercise 1\n",
    "How can we use it to load in the data in `01_DataA.csv`?\n",
    "\n",
    "It will help if you open the data file in Notepad or some other text editor and notice the delimiter which seperates the values in each row.\n",
    "\n",
    "Also, remember the numpy Arrays do not like having multiple data types. Looking at the text file you can see that the first 2 columns have location and hourly times as strings. We do not need these since the station is constant and the times are, as mentioned, hourly.\n",
    "\n"
   ]
  },
  {
   "cell_type": "code",
   "execution_count": 15,
   "metadata": {},
   "outputs": [],
   "source": [
    "#Import library\n",
    "import numpy as np\n",
    "\n",
    "#Set up file location as folder+myFile\n",
    "folder = \"DataFolder/\"\n",
    "myFile = \"01_DataA.csv\"\n",
    "\n",
    "#Use numpy.loadtxt to get an array of the data in the .csv file\n",
    "#myArr = np.loadtxt(folder+myFile,.....)"
   ]
  },
  {
   "cell_type": "markdown",
   "metadata": {},
   "source": [
    "If you print our your array, hopefully it looks like: \n",
    "\n",
    "\n",
    "`[[1020.6    4. ]\n",
    " [1020.6    3.7]\n",
    " [1020.7    3.4]\n",
    " ...\n",
    " [1020.9    5.1]\n",
    " [1021.     4.7]\n",
    " [1021.     4.3]]` \n",
    " \n",
    "If not, mess with the optional parameters shown in the `loadtxt` documentation until your array looks like the above. \n",
    "\n",
    "(Hint: You will need 3 optional parameters to get the above array)\n"
   ]
  },
  {
   "cell_type": "markdown",
   "metadata": {},
   "source": [
    "### Exercise 2\n",
    "\n",
    "Let's pretend we want the exact dates and times which are recorded in the data file. These are in the second column, but they are stored as a weird string. For example: \n",
    "\n",
    "`09-24T05:00:00`\n",
    "\n",
    "Where by looking at the data we can conlude the first two digits give the month, the dash seperates those digits from the digits giving the day of the month, and `T` denotes that the values after it are time of day.\n",
    "\n",
    "Using that information, how can we get an array of the times of each data measurement in days since January 1st, the first data point in the file? (Note: no need to make this code general for any year. "
   ]
  },
  {
   "cell_type": "code",
   "execution_count": null,
   "metadata": {},
   "outputs": [],
   "source": []
  },
  {
   "cell_type": "markdown",
   "metadata": {},
   "source": [
    "## Plotting Data\n",
    "\n",
    "Now let's plot our data and learn what we can from it! \n",
    "\n",
    "We are going to need the `matplotlib.pyplot` library that you hopefully imported during terminal work in the `Intro_To_Python` lessons. \n",
    "\n",
    "The beauty of this library is that it has a `plot` function! Wow! This is too easy:"
   ]
  },
  {
   "cell_type": "code",
   "execution_count": 18,
   "metadata": {},
   "outputs": [
    {
     "data": {
      "text/plain": [
       "[<matplotlib.lines.Line2D at 0x7fcbbdca4cc0>,\n",
       " <matplotlib.lines.Line2D at 0x7fcbbdca4e10>]"
      ]
     },
     "execution_count": 18,
     "metadata": {},
     "output_type": "execute_result"
    },
    {
     "data": {
      "image/png": "[encoded data removed]",
      "text/plain": [
       "<Figure size 432x288 with 1 Axes>"
      ]
     },
     "metadata": {},
     "output_type": "display_data"
    }
   ],
   "source": [
    "import matplotlib.pyplot as plt\n",
    "\n",
    "plt.plot(myArr)"
   ]
  },
  {
   "cell_type": "markdown",
   "metadata": {},
   "source": [
    "Well that was disappointing. I can't tell much from that plot at all! Why is one line blue? And why is the other orange? And why does the bottom range from 0 to 50000?? And what is with the brackets and angles and `lines.Line2D`? These are great questions which all have detailed answers, because:\n",
    "\n",
    "**Your code only does things you told it to do.**\n",
    "\n",
    "What did you tell it to do? Let's look at the documentation: https://matplotlib.org/3.2.1/api/_as_gen/matplotlib.pyplot.plot.html"
   ]
  },
  {
   "cell_type": "code",
   "execution_count": null,
   "metadata": {},
   "outputs": [],
   "source": []
  }
 ],
 "metadata": {
  "kernelspec": {
   "display_name": "Python 3",
   "language": "python",
   "name": "python3"
  },
  "language_info": {
   "codemirror_mode": {
    "name": "ipython",
    "version": 3
   },
   "file_extension": ".py",
   "mimetype": "text/x-python",
   "name": "python",
   "nbconvert_exporter": "python",
   "pygments_lexer": "ipython3",
   "version": "3.6.9"
  }
 },
 "nbformat": 4,
 "nbformat_minor": 4
}
